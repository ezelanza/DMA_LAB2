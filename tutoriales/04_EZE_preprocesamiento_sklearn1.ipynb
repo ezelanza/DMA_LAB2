{
  "nbformat": 4,
  "nbformat_minor": 0,
  "metadata": {
    "language_info": {
      "codemirror_mode": {
        "name": "ipython",
        "version": 3
      },
      "file_extension": ".py",
      "mimetype": "text/x-python",
      "name": "python",
      "nbconvert_exporter": "python",
      "pygments_lexer": "ipython3",
      "version": "3.7.6-final"
    },
    "orig_nbformat": 2,
    "kernelspec": {
      "name": "Python 3.7.6 64-bit ('base': conda)",
      "display_name": "Python 3.7.6 64-bit ('base': conda)",
      "metadata": {
        "interpreter": {
          "hash": "7ebb2c4c7c5ed607314911c8367a38196d9b30134c3bfdb6f99170fe766e8947"
        }
      }
    },
    "colab": {
      "name": "Copy of 04_preprocesamiento_sklearn1.ipynb",
      "provenance": [],
      "collapsed_sections": [
        "3M4bzWCYXprN"
      ]
    }
  },
  "cells": [
    {
      "cell_type": "markdown",
      "metadata": {
        "id": "UhEQ0R-1XppT"
      },
      "source": [
        "\n",
        "<a href=\"https://colab.research.google.com/github/Argentan/DMA_LAB2/blob/master/tutoriales/04_preprocesamiento_sklearn1.ipynb\" target=\"_parent\"><img src=\"https://colab.research.google.com/assets/colab-badge.svg\" alt=\"Open In Colab\"/></a>"
      ]
    },
    {
      "cell_type": "markdown",
      "metadata": {
        "id": "dGBO0fUHXppU"
      },
      "source": [
        "# Scikit Learn\n",
        "\n",
        "Desde hace años, Scikit Learn es el estándar de facto en términos de paquetes de utilidades y algoritmos de aprendizaje automático. Si bien en los últimos tiempos, tanto en gradient boosting como en deep learning, han surgido otros paquetes que son más populares en determinados contextos, esta librería sigue teniendo toda la funcionalidad de soporte para desarrollar y automatizar procesos de entrenamiento y predicción.\n",
        "\n",
        "Iremos viendo este paquete de una manera funcional, a través de las tareas propias de un proceso de desarrollo e implementación de aprendizaje automático.\n",
        "\n",
        "#### *Nota sobre la API de sklearn*: la gran mayoría de algoritmos y utilidades son clases que se instancia llamándola como una función con parámetro de inicialización y luego tiene dos métodos, `fit` para entrenar el algoritmo y `transform` o `predict` para aplicarlo, según el caso y la utilidad. Existen algunas funciones simples también para funcionalidades más sencillas. \n",
        "\n",
        "## 1. Pre-procesado\n",
        "\n",
        "Luego de la lectura de datos que ya vimos con `Pandas`, la primera tarea de manipulación de datos suele ser el preprocesador, que consiste en la transformación de los datos para que sean procesables y/o más compatibles con el algoritmo elegido o incluso que le permitan más poder explicativo.\n",
        "\n",
        "Las transformaciones para lograr que -algunos algoritmos- puedan procesar los datos son la `asignación de nulos` y, en menor medida, la `codificación de variables no intervalares (categóricas y ordinales) `; mientras que el `escalado y normalización` tiene a lograr una mejor compatibilidad con ciertos modelos. Por otro lado, la creación de variables, aunque contiene una gran parte de arte, es una forma muy potente de agregar poder explicativo al modelo.\n",
        "\n",
        "Veremos estas técnicas en el orden lógico de su utilización, aunque algunas, particularmente las que operan sobre columnas independientes como el escalado y la codificación, son intercambiables.\n",
        "\n",
        "Asimismo, existen algunas técnicas como la discretización (bins) o la transformación binaria que ya no se usan a menudo; al igual que técnicas de detección de valores extremos (`outliers`) y reducción de dimensionalidad que no tienen a tener ya los mismos beneficios que en otras épocas con menos capacidad de cálculo y algoritmos menos sofisticados. \n",
        "\n",
        "### A.- Asignación de nulos o perdidos\n",
        "\n",
        "Excepto alguna implementación de `gradient boosting`, todos los algoritmos de aprendizaje automático son incompatibles con la existencia de nulos en el dataset. \n",
        "\n",
        "Con los valores perdidos hay que ser especialmente cuidadoso, porque a veces tienen de por si un sentido, es decir que no son al azar. Si es así, hay que buscar una forma lógica de completarlos. Si no, se pueden completar de alguna formas distintas.\n",
        "# SKLearn\n",
        "\n",
        "Desde hace años, scikit Learn es el estándar de facto en términos de paquetes de utilidades y algoritmos de aprendizaje automático. Si bien en los últimos tiempos, tanto en gradient boosting como en deep learning, han surgido otros paquetes que son más populares en determinados contextos, esta librería sigue teniendo toda la funcionalidad de soporte para desarrollar y automatizar procesos de entrenamiento y predicción.\n",
        "\n",
        "Iremos viendo este paquete de una manera funcional, a través de las tareas propias de un proceso de desarrollo e implementación de aprendizaje automático.\n",
        "\n",
        "#### *Nota sobre la API de sklearn*: la gran mayoria de algoritmos y utilidades son clases que se instancia llamandola como una función con parámetro de inicialización y luego tiene dos métodos, `fit` para entrenar el arlgoritmo y `transform` o `predict` para aplicarlo, según el caso y la utilidad. Existen algunas funciones simples tambien para funcioanlidades mas sencillas. \n",
        "\n",
        "## 1. Pre-procesado\n",
        "\n",
        "Luego de la lectura de datos que ya vimos con `Pandas`, la primera tarea de manipuación de datos suele ser el pre-procesado, que consiste en la transformación de los datos para que sean procesables y/o más compatibles con el algoritmo elegido o incluso que le permitan más poder explicativo.\n",
        "\n",
        "Las transformaciones para lograr que -algunos algoritmos- puedan procesar los datos son la `asignación de nulos` y, en menor medida, la `codificación de variables no intervalares (categóricas y ordinales)`; mientras que el `escalado y normalización` tiene a lograr una mejor compatibilidad con ciertos modelos. Por otro lado, la creación de variables, aunque contiene una gran parte de arte, es una forma muy potente de agregar poder explicativo al modelo.\n",
        "\n",
        "Veremos estas técnicas en el orden lógico de su utilización, aunque algunas, particularmente las que operan sobre columnas independientes como el escalado y la codificación, son intercambiables.\n",
        "\n",
        "Asimsimo, existen algunas tecnicas como la discretización (bins) o la binarización que ya no se usan a menudo; al igual que técnicas de detección de valores extremos (`outliers`) y reducción de dimensionalidad que no tienen a tener ya los mismos beneficios que en otras epocas con menos capacidad de calculo y algoritmos menos sofisticados. \n",
        "\n",
        "### A.- Asignación de nulos o perdidos\n",
        "\n",
        "Excepto alguna implementaciones de `gradient boosting`, todos los algoritmos de aprendizaje automático son incompatibles con la existencia de nulos en el dataset. \n",
        "\n",
        "Con los valores perdidos hay que ser especialmente cuidadoso, porque a veces tienen de por si un sentido, es decir que no son al azar. Si es asi, hay que buscar una forma lógica de completarlos. Si no, se pueden completar de alguan formas distintas.\n",
        "\n"
      ]
    },
    {
      "cell_type": "code",
      "metadata": {
        "id": "GrgqZRCsXppV",
        "outputId": "7bbd733b-6a70-43b3-c2f9-41b21387553a",
        "colab": {
          "base_uri": "https://localhost:8080/",
          "height": 173
        }
      },
      "source": [
        "import numpy as np\n",
        "import pandas as pd\n",
        "X = pd.DataFrame([\n",
        "    [1,2,3,np.nan],\n",
        "    [np.nan, np.nan, np.nan, 0],\n",
        "    [-5, 0, 25, np.nan],\n",
        "    [1,-1, np.nan, np.nan]\n",
        "], columns=[f\"c{i}\" for i in range(4)])\n",
        "X"
      ],
      "execution_count": 1,
      "outputs": [
        {
          "output_type": "execute_result",
          "data": {
            "text/plain": [
              "    c0   c1    c2   c3\n",
              "0  1.0  2.0   3.0  NaN\n",
              "1  NaN  NaN   NaN  0.0\n",
              "2 -5.0  0.0  25.0  NaN\n",
              "3  1.0 -1.0   NaN  NaN"
            ],
            "text/html": "<div>\n<style scoped>\n    .dataframe tbody tr th:only-of-type {\n        vertical-align: middle;\n    }\n\n    .dataframe tbody tr th {\n        vertical-align: top;\n    }\n\n    .dataframe thead th {\n        text-align: right;\n    }\n</style>\n<table border=\"1\" class=\"dataframe\">\n  <thead>\n    <tr style=\"text-align: right;\">\n      <th></th>\n      <th>c0</th>\n      <th>c1</th>\n      <th>c2</th>\n      <th>c3</th>\n    </tr>\n  </thead>\n  <tbody>\n    <tr>\n      <th>0</th>\n      <td>1.0</td>\n      <td>2.0</td>\n      <td>3.0</td>\n      <td>NaN</td>\n    </tr>\n    <tr>\n      <th>1</th>\n      <td>NaN</td>\n      <td>NaN</td>\n      <td>NaN</td>\n      <td>0.0</td>\n    </tr>\n    <tr>\n      <th>2</th>\n      <td>-5.0</td>\n      <td>0.0</td>\n      <td>25.0</td>\n      <td>NaN</td>\n    </tr>\n    <tr>\n      <th>3</th>\n      <td>1.0</td>\n      <td>-1.0</td>\n      <td>NaN</td>\n      <td>NaN</td>\n    </tr>\n  </tbody>\n</table>\n</div>"
          },
          "metadata": {},
          "execution_count": 1
        }
      ]
    },
    {
      "cell_type": "markdown",
      "metadata": {
        "id": "w7y39u5zFsDX"
      },
      "source": [
        "Podemos eliminar filas o columnas completas cuando posean muchos nulos usando `dropna`\n",
        "\n",
        "Con `axis` definimos si se aplica sobre filas o columnas\n",
        "\n",
        "Con `thresh` a partir de cuantos nulos consideramos que debe borrarse (cuidado que inicia en 0)"
      ]
    },
    {
      "cell_type": "code",
      "metadata": {
        "id": "sFlHYd4CXppc",
        "outputId": "cebd1890-ca8d-4f6a-b7db-e033e0508232",
        "colab": {
          "base_uri": "https://localhost:8080/",
          "height": 142
        }
      },
      "source": [
        "X.dropna(axis=0, thresh=2)"
      ],
      "execution_count": 2,
      "outputs": [
        {
          "output_type": "execute_result",
          "data": {
            "text/plain": [
              "    c0   c1    c2  c3\n",
              "0  1.0  2.0   3.0 NaN\n",
              "2 -5.0  0.0  25.0 NaN\n",
              "3  1.0 -1.0   NaN NaN"
            ],
            "text/html": "<div>\n<style scoped>\n    .dataframe tbody tr th:only-of-type {\n        vertical-align: middle;\n    }\n\n    .dataframe tbody tr th {\n        vertical-align: top;\n    }\n\n    .dataframe thead th {\n        text-align: right;\n    }\n</style>\n<table border=\"1\" class=\"dataframe\">\n  <thead>\n    <tr style=\"text-align: right;\">\n      <th></th>\n      <th>c0</th>\n      <th>c1</th>\n      <th>c2</th>\n      <th>c3</th>\n    </tr>\n  </thead>\n  <tbody>\n    <tr>\n      <th>0</th>\n      <td>1.0</td>\n      <td>2.0</td>\n      <td>3.0</td>\n      <td>NaN</td>\n    </tr>\n    <tr>\n      <th>2</th>\n      <td>-5.0</td>\n      <td>0.0</td>\n      <td>25.0</td>\n      <td>NaN</td>\n    </tr>\n    <tr>\n      <th>3</th>\n      <td>1.0</td>\n      <td>-1.0</td>\n      <td>NaN</td>\n      <td>NaN</td>\n    </tr>\n  </tbody>\n</table>\n</div>"
          },
          "metadata": {},
          "execution_count": 2
        }
      ]
    },
    {
      "source": [
        "Con `axis = 1` eliminamos por columna en lugar de fila"
      ],
      "cell_type": "code",
      "metadata": {
        "id": "BkAkh6J7GL3g"
      },
      "execution_count": 3,
      "outputs": [
        {
          "output_type": "error",
          "ename": "SyntaxError",
          "evalue": "invalid syntax (<ipython-input-3-8c6427e8d029>, line 1)",
          "traceback": [
            "\u001b[0;36m  File \u001b[0;32m\"<ipython-input-3-8c6427e8d029>\"\u001b[0;36m, line \u001b[0;32m1\u001b[0m\n\u001b[0;31m    Con `axis = 1` eliminamos por columna en lugar de fila\u001b[0m\n\u001b[0m        ^\u001b[0m\n\u001b[0;31mSyntaxError\u001b[0m\u001b[0;31m:\u001b[0m invalid syntax\n"
          ]
        }
      ]
    },
    {
      "cell_type": "code",
      "metadata": {
        "id": "341DvG3yXppg",
        "outputId": "3e58fdf0-f36a-4d21-da46-7c8c3ce3eb0c",
        "colab": {
          "base_uri": "https://localhost:8080/",
          "height": 173
        }
      },
      "source": [
        "X.dropna(axis=1, thresh=2)"
      ],
      "execution_count": 4,
      "outputs": [
        {
          "output_type": "execute_result",
          "data": {
            "text/plain": [
              "    c0   c1    c2\n",
              "0  1.0  2.0   3.0\n",
              "1  NaN  NaN   NaN\n",
              "2 -5.0  0.0  25.0\n",
              "3  1.0 -1.0   NaN"
            ],
            "text/html": "<div>\n<style scoped>\n    .dataframe tbody tr th:only-of-type {\n        vertical-align: middle;\n    }\n\n    .dataframe tbody tr th {\n        vertical-align: top;\n    }\n\n    .dataframe thead th {\n        text-align: right;\n    }\n</style>\n<table border=\"1\" class=\"dataframe\">\n  <thead>\n    <tr style=\"text-align: right;\">\n      <th></th>\n      <th>c0</th>\n      <th>c1</th>\n      <th>c2</th>\n    </tr>\n  </thead>\n  <tbody>\n    <tr>\n      <th>0</th>\n      <td>1.0</td>\n      <td>2.0</td>\n      <td>3.0</td>\n    </tr>\n    <tr>\n      <th>1</th>\n      <td>NaN</td>\n      <td>NaN</td>\n      <td>NaN</td>\n    </tr>\n    <tr>\n      <th>2</th>\n      <td>-5.0</td>\n      <td>0.0</td>\n      <td>25.0</td>\n    </tr>\n    <tr>\n      <th>3</th>\n      <td>1.0</td>\n      <td>-1.0</td>\n      <td>NaN</td>\n    </tr>\n  </tbody>\n</table>\n</div>"
          },
          "metadata": {},
          "execution_count": 4
        }
      ]
    },
    {
      "cell_type": "markdown",
      "metadata": {
        "id": "ozslVvGUGWlV"
      },
      "source": [
        "Con `fillna` podemos completar con algun valor constante\n",
        "\n",
        "Es recomendable utilizar algún valor fuera del rango de valores de la variable para que se identifique claramente que era perdido"
      ]
    },
    {
      "cell_type": "code",
      "metadata": {
        "id": "jWIi6HiVXppj",
        "outputId": "239f0ade-3fdd-4eb7-c89e-067c53b2051f",
        "colab": {
          "base_uri": "https://localhost:8080/",
          "height": 173
        }
      },
      "source": [
        "X.fillna(999)"
      ],
      "execution_count": 5,
      "outputs": [
        {
          "output_type": "execute_result",
          "data": {
            "text/plain": [
              "      c0     c1     c2     c3\n",
              "0    1.0    2.0    3.0  999.0\n",
              "1  999.0  999.0  999.0    0.0\n",
              "2   -5.0    0.0   25.0  999.0\n",
              "3    1.0   -1.0  999.0  999.0"
            ],
            "text/html": "<div>\n<style scoped>\n    .dataframe tbody tr th:only-of-type {\n        vertical-align: middle;\n    }\n\n    .dataframe tbody tr th {\n        vertical-align: top;\n    }\n\n    .dataframe thead th {\n        text-align: right;\n    }\n</style>\n<table border=\"1\" class=\"dataframe\">\n  <thead>\n    <tr style=\"text-align: right;\">\n      <th></th>\n      <th>c0</th>\n      <th>c1</th>\n      <th>c2</th>\n      <th>c3</th>\n    </tr>\n  </thead>\n  <tbody>\n    <tr>\n      <th>0</th>\n      <td>1.0</td>\n      <td>2.0</td>\n      <td>3.0</td>\n      <td>999.0</td>\n    </tr>\n    <tr>\n      <th>1</th>\n      <td>999.0</td>\n      <td>999.0</td>\n      <td>999.0</td>\n      <td>0.0</td>\n    </tr>\n    <tr>\n      <th>2</th>\n      <td>-5.0</td>\n      <td>0.0</td>\n      <td>25.0</td>\n      <td>999.0</td>\n    </tr>\n    <tr>\n      <th>3</th>\n      <td>1.0</td>\n      <td>-1.0</td>\n      <td>999.0</td>\n      <td>999.0</td>\n    </tr>\n  </tbody>\n</table>\n</div>"
          },
          "metadata": {},
          "execution_count": 5
        }
      ]
    },
    {
      "cell_type": "markdown",
      "metadata": {
        "id": "ipWIW-n-GmZe"
      },
      "source": [
        "Con `SimpleImputer` podemos remplazarlo usando una función de agregación, como por ejemplo:\n",
        "\n",
        "\n",
        "*   mean: La Media\n",
        "*   median: La Mediana\n",
        "*   most_frequent: Valor más frecuente\n",
        "*   constant: un valor constante\n",
        "\n",
        "\n"
      ]
    },
    {
      "cell_type": "code",
      "metadata": {
        "id": "2Z_fgeYNXppo",
        "outputId": "ccaeec06-f5c2-479d-c16e-947b0db78140",
        "colab": {
          "base_uri": "https://localhost:8080/"
        }
      },
      "source": [
        "from sklearn.impute import SimpleImputer\n",
        "\n",
        "#media\n",
        "SimpleImputer(missing_values=np.nan, strategy='mean').fit_transform(X)"
      ],
      "execution_count": null,
      "outputs": [
        {
          "output_type": "execute_result",
          "data": {
            "text/plain": [
              "array([[ 1.        ,  2.        ,  3.        ,  0.        ],\n",
              "       [-1.        ,  0.33333333, 14.        ,  0.        ],\n",
              "       [-5.        ,  0.        , 25.        ,  0.        ],\n",
              "       [ 1.        , -1.        , 14.        ,  0.        ]])"
            ]
          },
          "metadata": {
            "tags": []
          },
          "execution_count": 3
        }
      ]
    },
    {
      "cell_type": "code",
      "metadata": {
        "id": "4JdCI0xdAKa2",
        "outputId": "6cb0d582-49c6-4bda-c92a-cc866615c6a3",
        "colab": {
          "base_uri": "https://localhost:8080/"
        }
      },
      "source": [
        "X"
      ],
      "execution_count": null,
      "outputs": [
        {
          "output_type": "execute_result",
          "data": {
            "text/plain": [
              "array([[ 1.        ,  2.        ,  3.        ,  0.        ],\n",
              "       [-1.        ,  0.33333333, 14.        ,  0.        ],\n",
              "       [-5.        ,  0.        , 25.        ,  0.        ],\n",
              "       [ 1.        , -1.        , 14.        ,  0.        ]])"
            ]
          },
          "metadata": {
            "tags": []
          },
          "execution_count": 75
        }
      ]
    },
    {
      "cell_type": "code",
      "metadata": {
        "id": "Niy9DuNGXppt"
      },
      "source": [
        "#media\n",
        "SimpleImputer(missing_values=np.nan, strategy='most_frequent').fit_transform(X)"
      ],
      "execution_count": null,
      "outputs": []
    },
    {
      "cell_type": "markdown",
      "metadata": {
        "id": "WDlSXbz7HETP"
      },
      "source": [
        "Con `IterativeImputer` podemos entrenar un modelo para realizar la imputación\n",
        "\n",
        "Por default, utiliza un modelo de regresión de tipo Bayesian Ridge"
      ]
    },
    {
      "cell_type": "code",
      "metadata": {
        "id": "nDdgWiiIXppw",
        "outputId": "10f555b6-3e6a-4cea-d7b8-5d233579fb43",
        "colab": {
          "base_uri": "https://localhost:8080/"
        }
      },
      "source": [
        "from sklearn.experimental import enable_iterative_imputer\n",
        "from sklearn.impute import IterativeImputer\n",
        "\n",
        "#con un modelo\n",
        "IterativeImputer(max_iter=10, random_state=0).fit_transform(X)"
      ],
      "execution_count": null,
      "outputs": [
        {
          "output_type": "execute_result",
          "data": {
            "text/plain": [
              "array([[ 1.        ,  2.        ,  3.        ,  0.        ],\n",
              "       [-1.        ,  0.33333333, 11.43333335,  0.        ],\n",
              "       [-5.        ,  0.        , 25.        ,  0.        ],\n",
              "       [ 1.        , -1.        ,  6.30000006,  0.        ]])"
            ]
          },
          "metadata": {
            "tags": []
          },
          "execution_count": 4
        }
      ]
    },
    {
      "cell_type": "markdown",
      "metadata": {
        "id": "dsiPFMbEHsJi"
      },
      "source": [
        "También podemos crear una Matriz de nulos utilizando `MissingIndicator`"
      ]
    },
    {
      "cell_type": "code",
      "metadata": {
        "id": "v9nm9OWXXpp0",
        "outputId": "5399e15a-d1a9-494f-d64b-66fb400b3350",
        "colab": {
          "base_uri": "https://localhost:8080/"
        }
      },
      "source": [
        "from sklearn.impute import MissingIndicator\n",
        "\n",
        "MissingIndicator(missing_values=999).fit_transform(X.fillna(999))"
      ],
      "execution_count": null,
      "outputs": [
        {
          "output_type": "execute_result",
          "data": {
            "text/plain": [
              "array([[False, False, False,  True],\n",
              "       [ True,  True,  True, False],\n",
              "       [False, False, False,  True],\n",
              "       [False, False,  True,  True]])"
            ]
          },
          "metadata": {
            "tags": []
          },
          "execution_count": 5
        }
      ]
    },
    {
      "cell_type": "markdown",
      "metadata": {
        "id": "c2P-t8wjXpp4"
      },
      "source": [
        "### B.- Codificación de variables ordinales y categorías\n",
        "\n",
        "Los algoritmos no pueden procesar datos que formato texto o `string`, hay que transformarlos a números. Existen algunas opciones para codificar estas variables, dependiendo de su naturaleza. \n",
        "\n",
        "Si son ordinales, fácilmente se pueden traducir a número, en una escala arbitraria y solo manteniendo los ordenes y valores equidistantes. \n",
        "\n",
        "Si son categóricas, no es posible hacer lo mismo. Algunas implementaciones de gradient boosting toleran variables categorías, pero en general los demás no. Así que hay que omitirlas o transformarlas.\n",
        "\n"
      ]
    },
    {
      "cell_type": "code",
      "metadata": {
        "id": "Pz6GKfSdXpp4",
        "outputId": "6608618f-2126-4281-8b2b-586a0fd2bbcb",
        "colab": {
          "base_uri": "https://localhost:8080/",
          "height": 204
        }
      },
      "source": [
        "X = pd.DataFrame([\n",
        "    ['M', 'CABA', 'medio'],\n",
        "    ['M', 'CABA', 'alto'],\n",
        "    ['F', 'PBA', 'alto'],\n",
        "    ['F', 'Córdoba', 'bajo'],\n",
        "    ['F', 'Córdoba', \"medio\"]\n",
        "], columns=[\"sexo\", \"provincia\", \"ingreso\"])\n",
        "X"
      ],
      "execution_count": null,
      "outputs": [
        {
          "output_type": "execute_result",
          "data": {
            "text/html": [
              "<div>\n",
              "<style scoped>\n",
              "    .dataframe tbody tr th:only-of-type {\n",
              "        vertical-align: middle;\n",
              "    }\n",
              "\n",
              "    .dataframe tbody tr th {\n",
              "        vertical-align: top;\n",
              "    }\n",
              "\n",
              "    .dataframe thead th {\n",
              "        text-align: right;\n",
              "    }\n",
              "</style>\n",
              "<table border=\"1\" class=\"dataframe\">\n",
              "  <thead>\n",
              "    <tr style=\"text-align: right;\">\n",
              "      <th></th>\n",
              "      <th>sexo</th>\n",
              "      <th>provincia</th>\n",
              "      <th>ingreso</th>\n",
              "    </tr>\n",
              "  </thead>\n",
              "  <tbody>\n",
              "    <tr>\n",
              "      <th>0</th>\n",
              "      <td>M</td>\n",
              "      <td>CABA</td>\n",
              "      <td>medio</td>\n",
              "    </tr>\n",
              "    <tr>\n",
              "      <th>1</th>\n",
              "      <td>M</td>\n",
              "      <td>CABA</td>\n",
              "      <td>alto</td>\n",
              "    </tr>\n",
              "    <tr>\n",
              "      <th>2</th>\n",
              "      <td>F</td>\n",
              "      <td>PBA</td>\n",
              "      <td>alto</td>\n",
              "    </tr>\n",
              "    <tr>\n",
              "      <th>3</th>\n",
              "      <td>F</td>\n",
              "      <td>Córdoba</td>\n",
              "      <td>bajo</td>\n",
              "    </tr>\n",
              "    <tr>\n",
              "      <th>4</th>\n",
              "      <td>F</td>\n",
              "      <td>Córdoba</td>\n",
              "      <td>medio</td>\n",
              "    </tr>\n",
              "  </tbody>\n",
              "</table>\n",
              "</div>"
            ],
            "text/plain": [
              "  sexo provincia ingreso\n",
              "0    M      CABA   medio\n",
              "1    M      CABA    alto\n",
              "2    F       PBA    alto\n",
              "3    F   Córdoba    bajo\n",
              "4    F   Córdoba   medio"
            ]
          },
          "metadata": {
            "tags": []
          },
          "execution_count": 17
        }
      ]
    },
    {
      "cell_type": "markdown",
      "metadata": {
        "id": "bwhj3Sy6IAU8"
      },
      "source": [
        "Con `OrdinalEncoder` podemos crear variables codificadas de forma ordinal en orden alfabético"
      ]
    },
    {
      "cell_type": "code",
      "metadata": {
        "id": "f3wDLuWHXpp8",
        "outputId": "9047918c-3a27-4deb-f484-81f4e69eed77",
        "colab": {
          "base_uri": "https://localhost:8080/",
          "height": 198
        }
      },
      "source": [
        "from sklearn.preprocessing import OrdinalEncoder, OneHotEncoder\n",
        "\n",
        "OrdinalEncoder().fit_transform(X[[\"sexo\", \"ingreso\"]])"
      ],
      "execution_count": null,
      "outputs": [
        {
          "output_type": "error",
          "ename": "NameError",
          "evalue": "ignored",
          "traceback": [
            "\u001b[0;31m---------------------------------------------------------------------------\u001b[0m",
            "\u001b[0;31mNameError\u001b[0m                                 Traceback (most recent call last)",
            "\u001b[0;32m<ipython-input-35-5f68b7af3078>\u001b[0m in \u001b[0;36m<module>\u001b[0;34m()\u001b[0m\n\u001b[1;32m      1\u001b[0m \u001b[0;32mfrom\u001b[0m \u001b[0msklearn\u001b[0m\u001b[0;34m.\u001b[0m\u001b[0mpreprocessing\u001b[0m \u001b[0;32mimport\u001b[0m \u001b[0mOrdinalEncoder\u001b[0m\u001b[0;34m,\u001b[0m \u001b[0mOneHotEncoder\u001b[0m\u001b[0;34m\u001b[0m\u001b[0;34m\u001b[0m\u001b[0m\n\u001b[1;32m      2\u001b[0m \u001b[0;34m\u001b[0m\u001b[0m\n\u001b[0;32m----> 3\u001b[0;31m \u001b[0mOrdinalEncoder\u001b[0m\u001b[0;34m(\u001b[0m\u001b[0;34m)\u001b[0m\u001b[0;34m.\u001b[0m\u001b[0mfit_transform\u001b[0m\u001b[0;34m(\u001b[0m\u001b[0mX\u001b[0m\u001b[0;34m[\u001b[0m\u001b[0;34m[\u001b[0m\u001b[0;34m\"sexo\"\u001b[0m\u001b[0;34m,\u001b[0m \u001b[0;34m\"ingreso\"\u001b[0m\u001b[0;34m]\u001b[0m\u001b[0;34m]\u001b[0m\u001b[0;34m)\u001b[0m\u001b[0;34m\u001b[0m\u001b[0;34m\u001b[0m\u001b[0m\n\u001b[0m",
            "\u001b[0;31mNameError\u001b[0m: name 'X' is not defined"
          ]
        }
      ]
    },
    {
      "cell_type": "code",
      "metadata": {
        "id": "WHO1SEmoXpp_",
        "outputId": "aebcfe3d-b76c-40e4-c9d7-9288dbe2f180",
        "colab": {
          "base_uri": "https://localhost:8080/"
        }
      },
      "source": [
        "OrdinalEncoder().fit_transform(X[[\"sexo\", \"ingreso\"]].sort_values(\"sexo\"))"
      ],
      "execution_count": null,
      "outputs": [
        {
          "output_type": "execute_result",
          "data": {
            "text/plain": [
              "array([[0., 0.],\n",
              "       [0., 1.],\n",
              "       [0., 2.],\n",
              "       [1., 2.],\n",
              "       [1., 0.]])"
            ]
          },
          "metadata": {
            "tags": []
          },
          "execution_count": 19
        }
      ]
    },
    {
      "cell_type": "markdown",
      "metadata": {
        "id": "4dzK3wDcIpop"
      },
      "source": [
        "También puedo indicarle el orden que deseo que codifique, si existe una lógica de magnitud para esa variable que no sea el orden alfabético"
      ]
    },
    {
      "cell_type": "code",
      "metadata": {
        "id": "cbUuwNjhXpqC",
        "outputId": "07eeae66-017f-4a4e-9446-57bdc1e5de2c",
        "colab": {
          "base_uri": "https://localhost:8080/"
        }
      },
      "source": [
        "encoder = OrdinalEncoder(categories=[[\"F\", \"M\"], [\"bajo\", \"medio\", \"alto\"]])\n",
        "encoder.fit_transform(X[[\"sexo\", \"ingreso\"]])"
      ],
      "execution_count": null,
      "outputs": [
        {
          "output_type": "execute_result",
          "data": {
            "text/plain": [
              "array([[1., 1.],\n",
              "       [1., 2.],\n",
              "       [0., 2.],\n",
              "       [0., 0.],\n",
              "       [0., 1.]])"
            ]
          },
          "metadata": {
            "tags": []
          },
          "execution_count": 20
        }
      ]
    },
    {
      "cell_type": "code",
      "metadata": {
        "id": "jrzt75tdXpqF",
        "outputId": "1a5787b3-3756-471f-c581-60ce90dd4f5d",
        "colab": {
          "base_uri": "https://localhost:8080/",
          "height": 204
        }
      },
      "source": [
        "X"
      ],
      "execution_count": null,
      "outputs": [
        {
          "output_type": "execute_result",
          "data": {
            "text/html": [
              "<div>\n",
              "<style scoped>\n",
              "    .dataframe tbody tr th:only-of-type {\n",
              "        vertical-align: middle;\n",
              "    }\n",
              "\n",
              "    .dataframe tbody tr th {\n",
              "        vertical-align: top;\n",
              "    }\n",
              "\n",
              "    .dataframe thead th {\n",
              "        text-align: right;\n",
              "    }\n",
              "</style>\n",
              "<table border=\"1\" class=\"dataframe\">\n",
              "  <thead>\n",
              "    <tr style=\"text-align: right;\">\n",
              "      <th></th>\n",
              "      <th>sexo</th>\n",
              "      <th>provincia</th>\n",
              "      <th>ingreso</th>\n",
              "    </tr>\n",
              "  </thead>\n",
              "  <tbody>\n",
              "    <tr>\n",
              "      <th>0</th>\n",
              "      <td>M</td>\n",
              "      <td>CABA</td>\n",
              "      <td>medio</td>\n",
              "    </tr>\n",
              "    <tr>\n",
              "      <th>1</th>\n",
              "      <td>M</td>\n",
              "      <td>CABA</td>\n",
              "      <td>alto</td>\n",
              "    </tr>\n",
              "    <tr>\n",
              "      <th>2</th>\n",
              "      <td>F</td>\n",
              "      <td>PBA</td>\n",
              "      <td>alto</td>\n",
              "    </tr>\n",
              "    <tr>\n",
              "      <th>3</th>\n",
              "      <td>F</td>\n",
              "      <td>Córdoba</td>\n",
              "      <td>bajo</td>\n",
              "    </tr>\n",
              "    <tr>\n",
              "      <th>4</th>\n",
              "      <td>F</td>\n",
              "      <td>Córdoba</td>\n",
              "      <td>medio</td>\n",
              "    </tr>\n",
              "  </tbody>\n",
              "</table>\n",
              "</div>"
            ],
            "text/plain": [
              "  sexo provincia ingreso\n",
              "0    M      CABA   medio\n",
              "1    M      CABA    alto\n",
              "2    F       PBA    alto\n",
              "3    F   Córdoba    bajo\n",
              "4    F   Córdoba   medio"
            ]
          },
          "metadata": {
            "tags": []
          },
          "execution_count": 21
        }
      ]
    },
    {
      "cell_type": "code",
      "metadata": {
        "id": "Pv5fHUoWXpqI",
        "outputId": "3ce342c8-7920-4b42-b823-ae8638bee5f1",
        "colab": {
          "base_uri": "https://localhost:8080/"
        }
      },
      "source": [
        "encoder.categories"
      ],
      "execution_count": null,
      "outputs": [
        {
          "output_type": "execute_result",
          "data": {
            "text/plain": [
              "[['F', 'M'], ['bajo', 'medio', 'alto']]"
            ]
          },
          "metadata": {
            "tags": []
          },
          "execution_count": 22
        }
      ]
    },
    {
      "cell_type": "code",
      "metadata": {
        "id": "fZyb8TDCXpqR",
        "outputId": "292b0116-e202-4c0f-8875-ed59447d48db",
        "colab": {
          "base_uri": "https://localhost:8080/"
        }
      },
      "source": [
        "pd.factorize(X.sexo)"
      ],
      "execution_count": null,
      "outputs": [
        {
          "output_type": "execute_result",
          "data": {
            "text/plain": [
              "(array([0, 0, 1, 1, 1]), Index(['M', 'F'], dtype='object'))"
            ]
          },
          "metadata": {
            "tags": []
          },
          "execution_count": 23
        }
      ]
    },
    {
      "cell_type": "markdown",
      "metadata": {
        "id": "tG7xBJJ5Jeqm"
      },
      "source": [
        "También puedo usar `OneHotEncoder` para realiza una codificación dummy o de tipo one-hot, es decir, donde cada valor de la variable se convierte en una columna con un binario que es 1 en caso de que tome ese valor"
      ]
    },
    {
      "cell_type": "markdown",
      "metadata": {
        "id": "dIFwAqdhJ-TB"
      },
      "source": [
        "![onehot.JPG](data:image/jpeg;base64,/9j/4AAQSkZJRgABAQEAeAB4AAD/4RDyRXhpZgAATU0AKgAAAAgABAE7AAIAAAANAAAISodpAAQAAAABAAAIWJydAAEAAAAaAAAQ0OocAAcAAAgMAAAAPgAAAAAc6gAAAAgAAAAAAAAAAAAAAAAAAAAAAAAAAAAAAAAAAAAAAAAAAAAAAAAAAAAAAAAAAAAAAAAAAAAAAAAAAAAAAAAAAAAAAAAAAAAAAAAAAAAAAAAAAAAAAAAAAAAAAAAAAAAAAAAAAAAAAAAAAAAAAAAAAAAAAAAAAAAAAAAAAAAAAAAAAAAAAAAAAAAAAAAAAAAAAAAAAAAAAAAAAAAAAAAAAAAAAAAAAAAAAAAAAAAAAAAAAAAAAAAAAAAAAAAAAAAAAAAAAAAAAAAAAAAAAAAAAAAAAAAAAAAAAAAAAAAAAAAAAAAAAAAAAAAAAAAAAAAAAAAAAAAAAAAAAAAAAAAAAAAAAAAAAAAAAAAAAAAAAAAAAAAAAAAAAAAAAAAAAAAAAAAAAAAAAAAAAAAAAAAAAAAAAAAAAAAAAAAAAAAAAAAAAAAAAAAAAAAAAAAAAAAAAAAAAAAAAAAAAAAAAAAAAAAAAAAAAAAAAAAAAAAAAAAAAAAAAAAAAAAAAAAAAAAAAAAAAAAAAAAAAAAAAAAAAAAAAAAAAAAAAAAAAAAAAAAAAAAAAAAAAAAAAAAAAAAAAAAAAAAAAAAAAAAAAAAAAAAAAAAAAAAAAAAAAAAAAAAAAAAAAAAAAAAAAAAAAAAAAAAAAAAAAAAAAAAAAAAAAAAAAAAAAAAAAAAAAAAAAAAAAAAAAAAAAAAAAAAAAAAAAAAAAAAAAAAAAAAAAAAAAAAAAAAAAAAAAAAAAAAAAAAAAAAAAAAAAAAAAAAAAAAAAAAAAAAAAAAAAAAAAAAAAAAAAAAAAAAAAAAAAAAAAAAAAAAAAAAAAAAAAAAAAAAAAAAAAAAAAAAAAAAAAAAAAAAAAAAAAAAAAAAAAAAAAAAAAAAAAAAAAAAAAAAAAAAAAAAAAAAAAAAAAAAAAAAAAAAAAAAAAAAAAAAAAAAAAAAAAAAAAAAAAAAAAAAAAAAAAAAAAAAAAAAAAAAAAAAAAAAAAAAAAAAAAAAAAAAAAAAAAAAAAAAAAAAAAAAAAAAAAAAAAAAAAAAAAAAAAAAAAAAAAAAAAAAAAAAAAAAAAAAAAAAAAAAAAAAAAAAAAAAAAAAAAAAAAAAAAAAAAAAAAAAAAAAAAAAAAAAAAAAAAAAAAAAAAAAAAAAAAAAAAAAAAAAAAAAAAAAAAAAAAAAAAAAAAAAAAAAAAAAAAAAAAAAAAAAAAAAAAAAAAAAAAAAAAAAAAAAAAAAAAAAAAAAAAAAAAAAAAAAAAAAAAAAAAAAAAAAAAAAAAAAAAAAAAAAAAAAAAAAAAAAAAAAAAAAAAAAAAAAAAAAAAAAAAAAAAAAAAAAAAAAAAAAAAAAAAAAAAAAAAAAAAAAAAAAAAAAAAAAAAAAAAAAAAAAAAAAAAAAAAAAAAAAAAAAAAAAAAAAAAAAAAAAAAAAAAAAAAAAAAAAAAAAAAAAAAAAAAAAAAAAAAAAAAAAAAAAAAAAAAAAAAAAAAAAAAAAAAAAAAAAAAAAAAAAAAAAAAAAAAAAAAAAAAAAAAAAAAAAAAAAAAAAAAAAAAAAAAAAAAAAAAAAAAAAAAAAAAAAAAAAAAAAAAAAAAAAAAAAAAAAAAAAAAAAAAAAAAAAAAAAAAAAAAAAAAAAAAAAAAAAAAAAAAAAAAAAAAAAAAAAAAAAAAAAAAAAAAAAAAAAAAAAAAAAAAAAAAAAAAAAAAAAAAAAAAAAAAAAAAAAAAAAAAAAAAAAAAAAAAAAAAAAAAAAAAAAAAAAAAAAAAAAAAAAAAAAAAAAAAAAAAAAAAAAAAAAAAAAAAAAAAAAAAAAAAAAAAAAAAAAAAAAAAAAAAAAAAAAAAAAAAAAAAAAAAAAAAAAAAAAAAAAAAAAAAAAAAAAAAAAAAAAAAAAAAAAAAAAAAAAAAAAAAAAAAAAAAAAAAAAAAAAAAAAAAAAAAAAAAAAAAAAAAAAAAAAAAAAAAAAAAAAAAAAAAAAAAAAAAAAAAAAAAAAAAAAAAAAAAAAAAAAAAAAAAAAAAAAAAAAAAAAAAAAAAAAAAAAAAAAAAAAAAAAAAAAAAAAAAAAAAAAAAAAAAAAAAAAAAAAAAAAAAAAAAAAAAAAAAAAAAAAAAAAAAAAAAAAAAAAAAAAAAAAAAAAAAAAAAAAAAAAAAAAAAAAAAAAAAAAAAAAAAAAAAAAAAAAAAAAAAAAAAAAAAAAAAAAAAAAAAAAAAAAAAAAAAAAAAAAAAAAAAAAAAAAAAAAAAAAAAAAAAAAAAAAAAAAAAAAAAAAAAAAAAAAAAAAAAAAAAAAAAAAAAAAAAAAAAAAAAAAAAAAAAAAAAAAAAAAAAAAAAAAAAAAAAAAAAAAAAAAAAAAAAAAAAAAAAAAAAAAAAAAAAAAAAAAAAAAAAAAAAAAAAAAAAAAAAAAAAAAAAAAAAAAAAAAAAAAAAAAAAAAAAAAAAAAAAAAAAAAAAAAAAAAAAAAAAAAAAAAAAAAAAAAAAAAAAAAAAAAAAAAAAAAAAAAAAAAAAAAAAAAAAAAAAAAAAAAAAAAAAAAAAAAAAAAAAAAAAAAAAAAAAAAAAAAAAAAAAAAAAAAAAAAAAAAAAAAAAAAAAAAAAAAAAAAAAAAAAAAAAAAAAAAAAAAAAAAAAAAAAAAAAAAAAAAAAAAAAAAAAAAAAAAAAAAAAAAAAAAAAAAAAAAAAAAAAAAAAAAAAAAAAAAAAAAAAAAAAAAAAAAAAAAAAAAAAAAAAAAAAAAAAAAAAAAAAAAAAAAAAAAAAFBhYmxvIEFsYmFuaQAAAAWQAwACAAAAFAAAEKaQBAACAAAAFAAAELqSkQACAAAAAzczAACSkgACAAAAAzczAADqHAAHAAAIDAAACJoAAAAAHOoAAAAIAAAAAAAAAAAAAAAAAAAAAAAAAAAAAAAAAAAAAAAAAAAAAAAAAAAAAAAAAAAAAAAAAAAAAAAAAAAAAAAAAAAAAAAAAAAAAAAAAAAAAAAAAAAAAAAAAAAAAAAAAAAAAAAAAAAAAAAAAAAAAAAAAAAAAAAAAAAAAAAAAAAAAAAAAAAAAAAAAAAAAAAAAAAAAAAAAAAAAAAAAAAAAAAAAAAAAAAAAAAAAAAAAAAAAAAAAAAAAAAAAAAAAAAAAAAAAAAAAAAAAAAAAAAAAAAAAAAAAAAAAAAAAAAAAAAAAAAAAAAAAAAAAAAAAAAAAAAAAAAAAAAAAAAAAAAAAAAAAAAAAAAAAAAAAAAAAAAAAAAAAAAAAAAAAAAAAAAAAAAAAAAAAAAAAAAAAAAAAAAAAAAAAAAAAAAAAAAAAAAAAAAAAAAAAAAAAAAAAAAAAAAAAAAAAAAAAAAAAAAAAAAAAAAAAAAAAAAAAAAAAAAAAAAAAAAAAAAAAAAAAAAAAAAAAAAAAAAAAAAAAAAAAAAAAAAAAAAAAAAAAAAAAAAAAAAAAAAAAAAAAAAAAAAAAAAAAAAAAAAAAAAAAAAAAAAAAAAAAAAAAAAAAAAAAAAAAAAAAAAAAAAAAAAAAAAAAAAAAAAAAAAAAAAAAAAAAAAAAAAAAAAAAAAAAAAAAAAAAAAAAAAAAAAAAAAAAAAAAAAAAAAAAAAAAAAAAAAAAAAAAAAAAAAAAAAAAAAAAAAAAAAAAAAAAAAAAAAAAAAAAAAAAAAAAAAAAAAAAAAAAAAAAAAAAAAAAAAAAAAAAAAAAAAAAAAAAAAAAAAAAAAAAAAAAAAAAAAAAAAAAAAAAAAAAAAAAAAAAAAAAAAAAAAAAAAAAAAAAAAAAAAAAAAAAAAAAAAAAAAAAAAAAAAAAAAAAAAAAAAAAAAAAAAAAAAAAAAAAAAAAAAAAAAAAAAAAAAAAAAAAAAAAAAAAAAAAAAAAAAAAAAAAAAAAAAAAAAAAAAAAAAAAAAAAAAAAAAAAAAAAAAAAAAAAAAAAAAAAAAAAAAAAAAAAAAAAAAAAAAAAAAAAAAAAAAAAAAAAAAAAAAAAAAAAAAAAAAAAAAAAAAAAAAAAAAAAAAAAAAAAAAAAAAAAAAAAAAAAAAAAAAAAAAAAAAAAAAAAAAAAAAAAAAAAAAAAAAAAAAAAAAAAAAAAAAAAAAAAAAAAAAAAAAAAAAAAAAAAAAAAAAAAAAAAAAAAAAAAAAAAAAAAAAAAAAAAAAAAAAAAAAAAAAAAAAAAAAAAAAAAAAAAAAAAAAAAAAAAAAAAAAAAAAAAAAAAAAAAAAAAAAAAAAAAAAAAAAAAAAAAAAAAAAAAAAAAAAAAAAAAAAAAAAAAAAAAAAAAAAAAAAAAAAAAAAAAAAAAAAAAAAAAAAAAAAAAAAAAAAAAAAAAAAAAAAAAAAAAAAAAAAAAAAAAAAAAAAAAAAAAAAAAAAAAAAAAAAAAAAAAAAAAAAAAAAAAAAAAAAAAAAAAAAAAAAAAAAAAAAAAAAAAAAAAAAAAAAAAAAAAAAAAAAAAAAAAAAAAAAAAAAAAAAAAAAAAAAAAAAAAAAAAAAAAAAAAAAAAAAAAAAAAAAAAAAAAAAAAAAAAAAAAAAAAAAAAAAAAAAAAAAAAAAAAAAAAAAAAAAAAAAAAAAAAAAAAAAAAAAAAAAAAAAAAAAAAAAAAAAAAAAAAAAAAAAAAAAAAAAAAAAAAAAAAAAAAAAAAAAAAAAAAAAAAAAAAAAAAAAAAAAAAAAAAAAAAAAAAAAAAAAAAAAAAAAAAAAAAAAAAAAAAAAAAAAAAAAAAAAAAAAAAAAAAAAAAAAAAAAAAAAAAAAAAAAAAAAAAAAAAAAAAAAAAAAAAAAAAAAAAAAAAAAAAAAAAAAAAAAAAAAAAAAAAAAAAAAAAAAAAAAAAAAAAAAAAAAAAAAAAAAAAAAAAAAAAAAAAAAAAAAAAAAAAAAAAAAAAAAAAAAAAAAAAAAAAAAAAAAAAAAAAAAAAAAAAAAAAAAAAAAAAAAAAAAAAAAAAAAAAAAAAAAAAAAAAAAAAAAAAAAAAAAAAAAAAAAAAAAAAAAAAAAAAAAAAAAAAAAAAAAAAAAAAAAAAAAAAAAAAAAAAAAAAAAAAAAAAAAAAAAAAAAAAAAAAAAAAAAAAAAAAAAAAAAAAAAAAAAAAAAAAAAAAAAAAAAAAAAAAAAAAAAAAAAAAAAAAAAAAAAAAAAAAAAAAAAAAAAAAAAAAAAAAAAAAAAAAAAAAAAAAAAAAAAAAAAAAAAAAAAAAAAAAAAAAAAAAAAAAAAAAAAAAAAAAAAAAAAAAAAAAAAAAAAAAAAAAAAAAAAAAAAAAAAAAAAAAAAAAAAAAAAAAAAAAAAAAAAAAAAAAAAAAAAAAAAAAAAAAAAAAAAAAAAAAAAAAAAAAAAAAAAAAAAAAAAAAAAAAAAAAAAAAAAAAAAAAAAAAAAAAAAAAAAAAAAAAAAAAAAAAAAAAAAAAAAAAAAAAAAAAAAAAAAAAAAAAAAAAAAAAAAAAAAAAAAAAAAAAAAAAAAAAAAAAAAAAAAAAAAAAAAAAAAAAAAAAAAAAAAAAAAAAAAAAAAAAAAAAAAAAAAAAAAAAAAAAAAAAAAAAAAAAAAAAAAAAAAAAAAAAAAAAAAAAAAAAAAAAAAAAAAAAAAAAAAAAAAAAAAAAAAAAAAAAAAAAAAAAAAAAAAAAAAAAAAAAAAAAAAAAAAAAAAAAAAAAAAyMDIwOjEwOjE1IDEzOjQ2OjQ5ADIwMjA6MTA6MTUgMTM6NDY6NDkAAABQAGEAYgBsAG8AIABBAGwAYgBhAG4AaQAAAP/hCx9odHRwOi8vbnMuYWRvYmUuY29tL3hhcC8xLjAvADw/eHBhY2tldCBiZWdpbj0n77u/JyBpZD0nVzVNME1wQ2VoaUh6cmVTek5UY3prYzlkJz8+DQo8eDp4bXBtZXRhIHhtbG5zOng9ImFkb2JlOm5zOm1ldGEvIj48cmRmOlJERiB4bWxuczpyZGY9Imh0dHA6Ly93d3cudzMub3JnLzE5OTkvMDIvMjItcmRmLXN5bnRheC1ucyMiPjxyZGY6RGVzY3JpcHRpb24gcmRmOmFib3V0PSJ1dWlkOmZhZjViZGQ1LWJhM2QtMTFkYS1hZDMxLWQzM2Q3NTE4MmYxYiIgeG1sbnM6ZGM9Imh0dHA6Ly9wdXJsLm9yZy9kYy9lbGVtZW50cy8xLjEvIi8+PHJkZjpEZXNjcmlwdGlvbiByZGY6YWJvdXQ9InV1aWQ6ZmFmNWJkZDUtYmEzZC0xMWRhLWFkMzEtZDMzZDc1MTgyZjFiIiB4bWxuczp4bXA9Imh0dHA6Ly9ucy5hZG9iZS5jb20veGFwLzEuMC8iPjx4bXA6Q3JlYXRlRGF0ZT4yMDIwLTEwLTE1VDEzOjQ2OjQ5LjczMzwveG1wOkNyZWF0ZURhdGU+PC9yZGY6RGVzY3JpcHRpb24+PHJkZjpEZXNjcmlwdGlvbiByZGY6YWJvdXQ9InV1aWQ6ZmFmNWJkZDUtYmEzZC0xMWRhLWFkMzEtZDMzZDc1MTgyZjFiIiB4bWxuczpkYz0iaHR0cDovL3B1cmwub3JnL2RjL2VsZW1lbnRzLzEuMS8iPjxkYzpjcmVhdG9yPjxyZGY6U2VxIHhtbG5zOnJkZj0iaHR0cDovL3d3dy53My5vcmcvMTk5OS8wMi8yMi1yZGYtc3ludGF4LW5zIyI+PHJkZjpsaT5QYWJsbyBBbGJhbmk8L3JkZjpsaT48L3JkZjpTZXE+DQoJCQk8L2RjOmNyZWF0b3I+PC9yZGY6RGVzY3JpcHRpb24+PC9yZGY6UkRGPjwveDp4bXBtZXRhPg0KICAgICAgICAgICAgICAgICAgICAgICAgICAgICAgICAgICAgICAgICAgICAgICAgICAgICAgICAgICAgICAgICAgICAgICAgICAgICAgICAgICAgICAgICAgICAgICAgICAgIAogICAgICAgICAgICAgICAgICAgICAgICAgICAgICAgICAgICAgICAgICAgICAgICAgICAgICAgICAgICAgICAgICAgICAgICAgICAgICAgICAgICAgICAgICAgICAgICAgICAgCiAgICAgICAgICAgICAgICAgICAgICAgICAgICAgICAgICAgICAgICAgICAgICAgICAgICAgICAgICAgICAgICAgICAgICAgICAgICAgICAgICAgICAgICAgICAgICAgICAgICAKICAgICAgICAgICAgICAgICAgICAgICAgICAgICAgICAgICAgICAgICAgICAgICAgICAgICAgICAgICAgICAgICAgICAgICAgICAgICAgICAgICAgICAgICAgICAgICAgICAgIAogICAgICAgICAgICAgICAgICAgICAgICAgICAgICAgICAgICAgICAgICAgICAgICAgICAgICAgICAgICAgICAgICAgICAgICAgICAgICAgICAgICAgICAgICAgICAgICAgICAgCiAgICAgICAgICAgICAgICAgICAgICAgICAgICAgICAgICAgICAgICAgICAgICAgICAgICAgICAgICAgICAgICAgICAgICAgICAgICAgICAgICAgICAgICAgICAgICAgICAgICAKICAgICAgICAgICAgICAgICAgICAgICAgICAgICAgICAgICAgICAgICAgICAgICAgICAgICAgICAgICAgICAgICAgICAgICAgICAgICAgICAgICAgICAgICAgICAgICAgICAgIAogICAgICAgICAgICAgICAgICAgICAgICAgICAgICAgICAgICAgICAgICAgICAgICAgICAgICAgICAgICAgICAgICAgICAgICAgICAgICAgICAgICAgICAgICAgICAgICAgICAgCiAgICAgICAgICAgICAgICAgICAgICAgICAgICAgICAgICAgICAgICAgICAgICAgICAgICAgICAgICAgICAgICAgICAgICAgICAgICAgICAgICAgICAgICAgICAgICAgICAgICAKICAgICAgICAgICAgICAgICAgICAgICAgICAgICAgICAgICAgICAgICAgICAgICAgICAgICAgICAgICAgICAgICAgICAgICAgICAgICAgICAgICAgICAgICAgICAgICAgICAgIAogICAgICAgICAgICAgICAgICAgICAgICAgICAgICAgICAgICAgICAgICAgICAgICAgICAgICAgICAgICAgICAgICAgICAgICAgICAgICAgICAgICAgICAgICAgICAgICAgICAgCiAgICAgICAgICAgICAgICAgICAgICAgICAgICAgICAgICAgICAgICAgICAgICAgICAgICAgICAgICAgICAgICAgICAgICAgICAgICAgICAgICAgICAgICAgICAgICAgICAgICAKICAgICAgICAgICAgICAgICAgICAgICAgICAgICAgICAgICAgICAgICAgICAgICAgICAgICAgICAgICAgICAgICAgICAgICAgICAgICAgICAgICAgICAgICAgICAgICAgICAgIAogICAgICAgICAgICAgICAgICAgICAgICAgICAgICAgICAgICAgICAgICAgICAgICAgICAgICAgICAgICAgICAgICAgICAgICAgICAgICAgICAgICAgICAgICAgICAgICAgICAgCiAgICAgICAgICAgICAgICAgICAgICAgICAgICAgICAgICAgICAgICAgICAgICAgICAgICAgICAgICAgICAgICAgICAgICAgICAgICAgICAgICAgICAgICAgICAgICAgICAgICAKICAgICAgICAgICAgICAgICAgICAgICAgICAgICAgICAgICAgICAgICAgICAgICAgICAgICAgICAgICAgICAgICAgICAgICAgICAgICAgICAgICAgICAgICAgICAgICAgICAgIAogICAgICAgICAgICAgICAgICAgICAgICAgICAgICAgICAgICAgICAgICAgICAgICAgICAgICAgICAgICAgICAgICAgICAgICAgICAgICAgICAgICAgICAgICAgICAgICAgICAgCiAgICAgICAgICAgICAgICAgICAgICAgICAgICAgICAgICAgICAgICAgICAgICAgICAgICAgICAgICAgICAgICAgICAgICAgICAgICAgICAgICAgICAgICAgICAgICAgICAgICAKICAgICAgICAgICAgICAgICAgICAgICAgICAgICAgICAgICAgICAgICAgICAgICAgICAgICAgICAgICAgICAgICAgICAgICAgICAgICAgICAgICAgICAgICAgICAgICAgICAgIAogICAgICAgICAgICAgICAgICAgICAgICAgICAgICAgICAgICAgICAgICAgICAgICAgICAgICAgICAgICAgICAgICAgICAgICAgICAgICAgICAgICAgICAgICAgICAgICAgICAgCiAgICAgICAgICAgICAgICAgICAgICAgICAgICA8P3hwYWNrZXQgZW5kPSd3Jz8+/9sAQwAHBQUGBQQHBgUGCAcHCAoRCwoJCQoVDxAMERgVGhkYFRgXGx4nIRsdJR0XGCIuIiUoKSssKxogLzMvKjInKisq/9sAQwEHCAgKCQoUCwsUKhwYHCoqKioqKioqKioqKioqKioqKioqKioqKioqKioqKioqKioqKioqKioqKioqKioqKioq/8AAEQgA8AIqAwEiAAIRAQMRAf/EAB8AAAEFAQEBAQEBAAAAAAAAAAABAgMEBQYHCAkKC//EALUQAAIBAwMCBAMFBQQEAAABfQECAwAEEQUSITFBBhNRYQcicRQygZGhCCNCscEVUtHwJDNicoIJChYXGBkaJSYnKCkqNDU2Nzg5OkNERUZHSElKU1RVVldYWVpjZGVmZ2hpanN0dXZ3eHl6g4SFhoeIiYqSk5SVlpeYmZqio6Slpqeoqaqys7S1tre4ubrCw8TFxsfIycrS09TV1tfY2drh4uPk5ebn6Onq8fLz9PX29/j5+v/EAB8BAAMBAQEBAQEBAQEAAAAAAAABAgMEBQYHCAkKC//EALURAAIBAgQEAwQHBQQEAAECdwABAgMRBAUhMQYSQVEHYXETIjKBCBRCkaGxwQkjM1LwFWJy0QoWJDThJfEXGBkaJicoKSo1Njc4OTpDREVGR0hJSlNUVVZXWFlaY2RlZmdoaWpzdHV2d3h5eoKDhIWGh4iJipKTlJWWl5iZmqKjpKWmp6ipqrKztLW2t7i5usLDxMXGx8jJytLT1NXW19jZ2uLj5OXm5+jp6vLz9PX29/j5+v/aAAwDAQACEQMRAD8A+kaKKKACisHxnrNzoXhyS9stvmq6gbhkc15r/wALU1/0t/8Av3QdtDA1cRDnhax7RRXi/wDwtTX/AEt/+/dH/C1Nf9Lf/v3TsdH9lYjy+89oorxf/hamv+lv/wB+6P8Ahamv+lv/AN+6LB/ZWI8vvPaKK8X/AOFqa/6W/wD37o/4Wpr/AKW//fuiwf2ViPL7z2iivF/+Fqa/6W//AH7o/wCFqa/6W/8A37osH9lYjy+89oorxf8A4Wpr/pb/APfuj/hamv8Apb/9+6LB/ZWI8vvPaKK47wB4ovvEsF4+oeXmFlC7Fx1rsaR59alKjNwlugooooMgooooAKKKKACiiigAoorxC6+LXiGG8mjQW+1HKj936Guijh5178nQyqVo0rcx7fRXhf8Awt7xH6W3/fuj/hb3iP0tv+/ddH9n1/Ix+uUj3SivC/8Ahb3iP0tv+/dH/C3vEfpbf9+6P7Pr+QfXKR7pRXhf/C3vEfpbf9+6P+FveI/S2/790f2fX8g+uUj3SivC/wDhb3iP0tv+/dH/AAt7xH6W3/fuj+z6/kH1yke6UV4X/wALe8R+lt/37rR1b4oa7ZR2BhFvm4tllfKdyxH9KTwFZO2g/rVO1z2OivC/+FveI/S2/wC/dH/C3vEfpbf9+6f9n1/IX1yke6UV4X/wt7xH6W3/AH7o/wCFveI/S2/790f2fX8g+uUj3SivC/8Ahb3iP0tv+/dH/C3vEfpbf9+6P7Pr+QfXKR7pRXhf/C3vEfpbf9+6P+FveI/S2/790f2fX8g+uUj3SivC/wDhb3iP0tv+/daMPxQ12Tw7dXrC382KdI1+TjBBz/Kk8BWXYaxVNnsdFeF/8Le8R+lt/wB+6P8Ahb3iP0tv+/dP+z6/kL65SPdKK8L/AOFveI/S2/790f8AC3vEfpbf9+6P7Pr+QfXKR7pRXhf/AAt7xH6W3/fuj/hb3iP0tv8Av3R/Z9fyD65SPdKK8L/4W94j9Lb/AL90f8Le8R+lt/37o/s+v5B9cpHulFeF/wDC3vEfpbf9+60dB+KGu6jrMVrcC38twxOE54Un+lJ4Csld2GsXTbsex0V4X/wt7xF6W3/fuj/hb3iP0tv+/dP+z6/kL63SPdKK8L/4W94j9Lb/AL90f8Le8R+lt/37o/s+v5B9cpHulFeF/wDC3vEfpbf9+6P+FveI/S2/790f2fX8g+uUj3SivC/+FveI/S2/790f8Le8R+lt/wB+6P7Pr+QfXKR7pRXhf/C3vEfpbf8AfugfF7xFnpbf9+6P7PreQfW6R7pRVXTLh7vSrW4lxvliV2x6kVargas7HWtQooopAFFFFAHI/E3/AJEqb/roleLWVv8AbNQt7bdt86VU3YzjJxmvafib/wAiVN/10SvHdF/5D1h/18x/+hCmj6fK3bDNruzup/hdYW9wlvN4iijuJBmOKSMBm+g3c1xniHQLnw5qzWN2Vc4DI69HU969T8Xy+GLTX7O7195/tcMQaKNASpAYkZwPXPeotJutP8XXl/r0tvEfsiiK3W6GVQcncwoMqOMrRiqk7uNu1teljx2tO78O6jZaNBqlxCq2lwQI3Dgk59utd94gOj3Ph6S5uJ9JbUbdw8LWg2h8H7pHer2v+IpYfh1Y3y2Vs7XShGjKZVMqeQO1M6XjZvl5Y7uzv+h4/RSnk0lB6gUUUUAFFFFAHqnwf/49dR/30/ka9KrzX4P/APHrqP8Avp/I16VSZ8fmP+9S/roFFFFI4AooooAKKKKACiiigANfK9//AMhG4/66t/Ovqg18r3//ACEbj/rq3869jLN5fI8/G7ROi8JeAdQ8UxtcrIlpZIdpnkGcn0A71raz8MYtP0me+sdftbkW4y6thfwyCea6IR3F78D4Y9Cy0qpiVYvvHDfMK8pXTtQMTstrP5YIDnYcA9s11QnUqyb5rJO1jCUYQily3utynitPQ/D+oeI717TSollmRDIQzheAQOp+or1vQbZtOtdMstTsdDs/PUBoXG6WbPccdfzqbw0sOjfEfV9CsrWGO2aP7UrBfmUkJ8oP93npUzxjtLlWqHHDK6uzw+4gktrmSCYYkicowznBBwajroPGmsSax4jnaW1htzbu8IEKbdwDHk+9c/XfBtxTZyySTaQUUUVRIVteIf8AU6T/ANeK/wDoTVi1teIf9TpP/Xiv/oTVEviRS+Fl/wAE+Dl8XXF1G96bQW6Bs+Xuzn8RXQN8J4LuKQaJ4jtL2dOseB+RKscflUnwb/4+tW/64D+tYPgyx1KT4gW8llFKqpcEyuAQAmTnNcVSdT2k7SsonTGMOSN43uczqGn3Ol6hNZX0Rinhba6nsarV7jcaPpWu/Fa8luo0uPsFlGXhPIeTJ6jvgY/Sqej3un+OG1LTNQ8Ow2aW6MY5UQBkwcdcDBprGe7dx6K/zB4fW1/Q8aor1jRLSw8J+AZtbXTotSu2mZMyKDgbsfgOKs6zcWmrfCO51OPSYbCWQjKpGBzvHIOO9V9a96yjpe1yfYaavW1zx6iiiu05gratf+RLvv8Ar7i/9BasWtq1/wCRLvv+vuL/ANBaonsvVFw3E8MaNaa5qzWuoalFpsQiLiaXGCQRxyR6/pXbyfCbTIbNLuXxRCls/wB2ZkUI30bdivL69V8S/wDJD9H/AO2X9a5cQ6inHlla7sbUVBxfMr2POdb0+DS9YntLS7S8hjbCzpjD8exNUMV6j4xsoR4H8MSQWyBmaPeyIMn5e5rW8R2VtH438KRrbQqrj51EYAbg9R3pRxWiuu/4DdDV69vxPHba2lu7qK3gXdJK4RATjJJwK3G8J3mneKrDSNbj8lrp0z5bhjtZsZyMjsa9E1zxZb6L47i0ax0Sx+eaJZJ2jG7LY5GPQGpfG+sSL450bSfssJjeWGXzynzg7zxn04qPrNSTVo2TVyvYwSet2med+O/Dlp4Y8QCxsXleMwq+ZSCcnPoB6VzNe16todprnxejj1BRJDDZrIY26OQTgGprtdDu476w1mbQ47ZVKxC3XbJCe2TShi+WMU1d21CWHvJtOyPDq2vCX/IzW/8Auyf+gNWRMqpO6o25VYgMO4rX8Jf8jNb/AO7J/wCgNXdU+B+hyw+JGLXo9p8L7B9DtNRv/EMdklwgYebGqgE9slhmvOK9v1KTQI/h3ox8TxyyW2xNgizndj2rmxVScOVQe76G9CEZczl0OLh8G+HIfE0djeeJYZbRrcyefE6KN2cbc5I6c1xl9DDBqE8VpL58KSMscmMb1B4NeleCY/D158Q5BoVsxsvsZ+S4Xd82RnrUvhCTRILnXUlFlHqpvJFge8TMYXPAH456VCryg3e70RfslJK1lqzhvBuiW/iHxRb6dePIkUoYkxkBuAT3qr4j02LSPEV7YWxdooJNqlzkkY716Xa2moW3xb0w6jY2VrvhfY1muEk+U5P1rYsL3TNd8Va1oM2jW4SIFnmZQWkY9T04qZYqSnzWurX/ABGqCceXrc8IoqzqEK22pXEMf3Y5WUfQGq1ekndXOLYKUdRSUo6igD6g0L/kX7D/AK4J/Kr9UNC/5F+w/wCuCfyq/XyE/iZ9DHZBRRRUjCiiigDkfib/AMiVN/10SvFbS4a0vIbhAGaGRXAPcg5r6C8SaNDrujPY3E5gRmDFx2xXFf8ACqtL/wCgvJ+S00e7l+Lo0aLhUfU4bxN4ln8T30V1cwpC0UflgIc5GSf603w/4lvvDlw8lkVZJBiSJxlWru/+FVaX/wBBeT8lo/4VVpf/AEF5PyWjQ7PrmD5PZ9O1mchrvjO51uxFn9jtbWHduIijGSfrUln46vrbw6dHltoLiHYURpBygIx+ma6v/hVWl/8AQXk/JaP+FVaX/wBBeT8lo0J+s4HlUem+zPLaSvU/+FVaX/0F5PyWj/hVWl/9BeT8lp3N/wC0sN3/AAZ5ZRXqf/CqtL/6C8n5LR/wqrS/+gvJ+S0XD+0sN3/BnllFep/8Kq0v/oLyfktH/CqtL/6C8n5LRcP7Sw3f8GL8H/8Aj11H/fT+Rr0quc8I+F7bw1FcJaXbXImIJJxxj6V0dSfOYypGrXlOOzCiiig5AooooAKKKKACiiigANfK9/8A8hG4/wCurfzr6ory+f4SaVNcSSNrMgLsWIwvGTXo4GvCi5c/U48VSlUS5Tz7w14y1Xwu7CwkVoXOWhkGVJ9fatrVfitrGo2L20Vvb2qyDDMi7ifzro/+FQaT/wBBqT8lo/4VBpP/AEGpPyWu2VfCSlzNa+hzKliEuVbHOw/FPUkjtzcafZXFxbgKtw6fNj+lZ/8Awn+pL4wfxDDFFHPJGI3i6qygAY/QV2X/AAqDSf8AoNSfktH/AAqDSf8AoNSfktJVsGr2X4Mbp4hnnXiXxBJ4k1QXstrDbME2FYhweScn35rIr1z/AIVBpP8A0GpPyWj/AIVBpP8A0GpPyWtY4zDxVkzN4atJ3Z5HRXrn/CoNJ/6DUn5LR/wqDSf+g1J+S1X16h3/AAF9Vq9jyOtrxD/qdJ/68V/9CavQv+FQaT/0GpPyWruofC7TL1LQSatIn2eARLgL8wBJz+tQ8bRck7lLDVLPQ838J+L7nwlPcS2lvHOZ1CkSEjGK3br4t6xLbNHZWlrZs3V41ya3v+FQaT/0GpPyWj/hUGk/9BqT8lrOVbCTlzSWvoy40sRFWR5xpXiTU9I1o6pa3BNyxPmM/PmZ6g10Wp/FPV7+wktoLe3szMMSSxD5mrpf+FQaT/0GpPyWj/hUGk/9BqT8lqpYjCSfNLf0EqOIirIp+AR4lj8MyPpQs762kkI+yXDcj1Na3jrUp7L4dGy1hrdNQunAEEHRFBz+gFMtvhbZ2ZJtfEVzDnrsYCmz/CmwupN9zr9xK3q5BNczqUJVedvrfY2UKqhypfiePUV65/wqDSf+g1J+S0f8Kg0n/oNSfktd316h3/A5fqtXseR1tWv/ACJd9/19xf8AoLV6F/wqDSf+g1J+S1di+F2mR6NPZDVpCksqyF8LwQCMfrUSxtFrRlRw1RPY8Wro7/xldah4RtdAkt41gttu2QE7jiu5/wCFQaT/ANBqT8lo/wCFQaT/ANBqT8lpyxeHk030BYesr26nKaZ8SdT07RYtOe2trpIP9U8y5KelM1L4h32p63p2pzWsKy2GdqqTh/rXXf8ACoNJ/wCg1J+S0f8ACoNJ/wCg1J+S1l7bB3vb8GX7PEWsec654hudb8Qtq7osE5KsAh4UqBg/pW9qPxKv9UWzN1Y2pmtZUlEoHzMVOcewrqP+FQaT/wBBqT8lo/4VBpP/AEGpPyWqeIwrtfptuJUa6v5nE6j451K+8Txa5CEtbmJAgCHIIHr+daGofE2/v7GaAadYxSTrtkmEYLMK6b/hUGk/9BqT8lo/4VBpP/Qak/JaXt8Jppt5MfssRr5nkfWtrwl/yM1v/uyf+gNXoX/CoNJ/6DUn5LV3Svhdpmm6lHdRatJIyBgFIXnII/rVzxtFxaTIjhqiknY8Wro9Y8ZXWseHbPSJreNIrXG11JycDFd1/wAKg0n/AKDUn5LSf8Kg0n/oNSfktOWLw8mm+gLD1kml1PPfC/iWfwtqrX1rCkztGY9rnAwSP8K0tK8fXWmLdI2nWVzFcTtOVljyQxOetdh/wqDSf+g1J+S0f8Kg0n/oNSfktRLEYWTbl+o40a8dEchJ8Q9Um8U2+tzxRM9sjJFAOFUEYNM03x5eaZ4lvtZitYnlvBhkJOF+ldl/wqDSf+g1J+S0f8Kg0n/oNSfktL2+Etb5bMfssRe55RdXBuruWdgA0rlyB2yair1z/hUGk/8AQak/JaP+FQaT/wBBqT8lrb69QXX8DP6rV7HkdKOor1v/AIVBpP8A0GpPyWl/4VBpP/Qak/JaPr1Dv+AfVavY9E0L/kX7D/rgn8qv1BY262lhBbo29Yowgb1wKnr52Tu2z2FsFFFFSMKKKKAKWrf8eDfUVgVv6t/x4N9RXIa/qX9j+HdQ1IJvNpbSTBfUqpOKR00vhJb7VtP0xQ2pX9taK3QzzKgP5mpre6gu4FmtJo54m+68bhlP4iuR8I+EdPk0e31fXbeLVNX1CJZ7i6ukEhBYZ2JnhVGcACtqz0LSvDX2290mwMJmG+WC2Bw5H91BwD9BQXqbNFcxb+MH/tK2tdV0W90xbxtlvLOUKs2M7TtYlT9ay9M8U69cfEDUtNm0a5NpEsO1fMixCDnLnnJB645NAXR3dFFFBQUUUUAFFFFAGvon3JfqK1aytE+5L9RWrTOSp8TCiiiggKKKKACiiigAooooAK5CT/Wt9TXX1yEn+tb6mtaZMiC4uYLSBp7qaOCJBlpJGCqPqTUiOsiK6MGVhkMDkEVxHxO0GPUvDN7fXdzM0Nnau0doDiMydnPqR2B4rqtF/wCQDYf9e0f/AKCK06kl6iiimIKKKKACiiigAqe5+7D/ANcx/M1BU9z92H/rmP5mgZVlljgiaSZ1jjUZZnOAB7mobLUbLUYTLp93BdRg4LwSBwD9RXK+MYxq3inw/odz81lO8lxcRH7soQcKfUZOcVFfWNr4d+I+hTaTbx2keqRzW1zFCoRH2KGRio4yORn3pXA7iiiimIKKKKACiiigAqdP+PGT/fFQVOn/AB4yf74oYyCqkeradNfNZQ39s90n3oFmUuv1XOayfH2pz6P4B1e9s3KXEduRG46qzfKD+Gc1z3iPwjpmifDsz6baxQX+lxLcxXaKBKZF5LF+p3c5z1zSbA9CoqvYXH2vTba5IwZolkx9QDVimIKKKKACiiigAqez/wCPpfof5VBU9n/x9L9D/Kh7DIKqXeq6fYSRx319bWzyHCLNMqFj7AnmrZOBXA+EtG0/xLHrGq63Zw3s11eSwAzoH8uNDtCrnp+FAHegggEHIPQilrk/h3NINAuLCV2kGnXktqjMcnYrfLz9K6ygAooooEFFFFABRRRQB1tv/wAe0f8AuipKjt/+PaP/AHRUlcpqFFFFABRRRQBS1b/jwb6iuZvbSLULCezuV3Q3EbRuPVSMH+ddPqoJsGxzyKwNrf3T+VI6aXwnCaPea94PsI9H1PSbnVLa1Hl2t7ZgOXjH3Q69QwHFTX974s1fQdTksdPOmkxgWiO489jn5j6DjpXa7W/un8qNrf3T+VBdjyg6RcXWraHLYaNrA+z3iPdT38zHAweik4PPcCumRb3SviTe3LafcT2mpQQxpPCu5Y2XIO70612O1v7p/Kja390/lQFhKKXa390/lRtb+6fyoKEopdrf3T+VG1v7p/KgBKKXa390/lRtb+6fyoA1tE+5L9RWrWXooISXIxyK1KZyVPiYUUUUEBRRRQAUUUUAFFFFABXISf61vqa6+uSkRvMb5T1PataZMjn/ABpaT3/gvVLW0iaWeW3ZURerH0rR0mN4dGsopVKukCKynsQozVzY390/lRsb+6fyrUkSil2N/dP5UbG/un8qAEopdjf3T+VGxv7p/KgBKKXY390/lRsb+6fyoASp7n7sP/XMfzNQ7G/un8qnuFbbD8p/1Y7e5pAcf4u02+a90vW9Kg+03GmysXgBwZI2GGA9+9VLWPUPE3jKx1S606fT7DS45PKW5GHllcAE47AAfrXabG/un8qNjf3T+VFgEopdjf3T+VGxv7p/KmAlFLsb+6fyo2N/dP5UAJRS7G/un8qNjf3T+VACVOn/AB4yf74qHY390/lU6q32GT5T98dqTAw/E2jjxB4Y1DSmbZ9rgaNW/utjg/niuQv7nxD4g8Np4bl0W4tbuZVgvLt8eSqDhmU98gcD3r0TY390/lRsb+6fyosBFbwrbWsUEf3I0CL9AMVJS7G/un8qNjf3T+VMBKKXY390/lRsb+6fyoASil2N/dP5UbG/un8qAEqez/4+l+h/lUOxv7p/Kp7NW+1L8p6Ht7UnsBXrhLN9V8G3WpWUOj3Oo2tzcNcWklsAQC/JVvTnvXebG/un8qNjf3T+VMDnvBmjXOjaCV1DH2y6me5nCngM5zj8OldBS7G/un8qNjf3T+VACUUuxv7p/KjY390/lQAlFLsb+6fyo2N/dP5UAJRS7G/un8qXY390/lQB1dv/AMe0f+6KkqO3/wCPaP8A3RUlcpoFFFFABRRRQBFckiE49ao729au3X+oP1rLupGis5pE+8kbMPqBSNI7E+9vWje3rXm/hdvHXiLwnYa3F4nsY5LyHzRbyaWCo68Fg4P41veFvFF5qOo3mh+IbSOy1mxUO6xMWinjPAkQnnGex6UFaHVb29aN7etRGeJZNjSoG/ulhmnkgDJOBQA7e3rRvb1qFbiFgSsyEA4OGFS0ALvb1o3t60lFAxd7etG9vWkooAt2ZJDZqzVWy6NVqmYy3CiiigQUUUUAFFFFABRRRQAVlmRtx571qVkn7x+tVETF8xvWjzG9a4q91fX9c8WX2i+Gbq206HS0Q3V3PB5zPI4yqKuQAMck+9aHg/X7zVo7+y1iOKPU9Mn8i48nIR+Mq4B5AI7VQjpfMb1o8xvWm0UAO8xvWjzG9abRQA7zG9aPMb1ptFADvMb1p7u2F5/hqKnydE/3aAE8xvWjzG9ay9e1G60vSXn0/T5dQuSQkUEXdj0JPZR3NYvw91zV9c0e9fxAYDeW99LbkQLhQFOMD1+tAHXeY3rR5jetNooAd5jetHmN602igB3mN60eY3rTaKAHeY3rTw7eS3PcVFTx/qW/3hQAnmN60eY3rWbr+sQeH/D19q12C0NnA0zKOrYGcD69K4u41vxpouhQeJ9XmsJrNtkl1pkVuVa3iYjlZN3zMoPORjg0AejeY3rR5jetRxyLLEkkZ3I6hlI7g06gB3mN60eY3rTaKAHeY3rR5jetNooAd5jetPidjIMmoqfD/rBQAnmN60eY3rTa4WPV/FHijUNSk8NXllp9hp8zW8f2i2MzXUi/eydw2rnjjmgDvPMb1o8xvWsHwh4gfxJ4fjvLiEQXSO0NxEpyEkU4YD2yK3KAHeY3rR5jetNooAd5jetHmN602igB3mN60eY3rTaKANWP/Vr9KdTY/wDVr9KdWZQUUUUAFFFFAEN1/qD9ayb/AP5B1z/1yb+RrWuv9QfrWe6LJGyOMqwII9RSNI7HIfC6aKL4U6C0kioFtFyWbGOTWJJfyax4/wBW1vQB58GlaS9sJ1GVlnJ3bQe+MVuxfC/wrCixpYyeUvSL7Q+z6YziumstPtNNs0tLC3jt7dBhY41wBQUee+HvDPhvVvAkOq6tKLi9ngMtxqEk5EsUnU4Oflwe3tWZ/aupaj4J8J2+sXc0Vnf35gu7oMUaSJQ3lgsOm/Aya7q48AeG7m7e4l05cyNveNXYI59SoODUnioW9r4eWCTQ21Sx3KkttCoJjT+8F7446UCscV8QfDfh7Q9L0ufSdun3DapaIIoJCBcgzKSGXPOOufavVK8jl0jSNfutPsfC2i3sbC9hnury8jcC3ijcOVUv3O0DAr1ygaFooooGFFFFAFqy6NVqqtl0arVMyluFFFFBIUUUUAFFFFABRRTJJo4tvmOF3HAyetAD6yT94/WtbqOKyT94/WqiJnDeFZE0/wCIPi6yumWOa4nhu4txxvjMYXI9cFSKd4KcXvjDxXqVv81rJcxxRuOjsi4Yj8eK39a8K6P4gkjk1S0EksQISRWKMAeoyOce1XdO02z0ixjs9OgS3t4x8qIOKoRaooopgFFFFABRRRQAU+Ton+7TKfJ0T/dpAMrivhr/AMeeuf8AYYuf/Q67WqenaVZ6Uk62EIiE8zTSAH7zsck0AXKKKKYBRRRQAUUUUAFPH+pb/eFMp4/1Lf7wpAcl8TrKbUPhlrtvaoXlNqXVF6ttIYj8hVDxprdje/CW5ntZUlXUbRY7ZUOS7OAFAHrk13JAYEEZB6g1z1r4E8O2WprfW+mosyOXQbiURj3Vc4BoA1tKge10azgl+/FAiN9QoBq3RRTAKKKKACiiigAp8P8ArBTKfD/rBSAYRkEVw3w5uYdP03WdPu5Eins9SneVXOCFY7g30xXc1hat4M0LXLz7VqNirzEbWdWK7x6Ng8j60AZHwxBl0TUb5VIhvdSnnhz3QtwfxrtKjtraG0to7e1jWKGNQqIowFHpUlABRRRTAKKKKACiiigDVj/1a/SnU2P/AFa/SnVkUFFFFABRRRQBXvpBFalmBIyOBWV9vi/55t/31Whq3/Hg31FcrqWoRaXp8l5cJM8ceMrBE0jnJxwqgk0jenFON2bX2+L/AJ5t/wB9Ufb4v+ebf99VwH/CzdB+2C08jVvtBj8zyf7Ln3bM43Y25xnjNdLpuoRapYR3duk0ccmcLPE0TjnHKsARQacsWbX2+L/nm3/fVH2+L/nm351QpOnWgOVGh9vhHSJvzo+3xf8APNv++q57Wtag0SK0kuI5HF1dxWqbMcM5wCc9q0qA5UX/ALfF/wA82/76o+3xf882/wC+qoUUByov/b4v+ebf99Ufb4v+ebf99VQooDlRo+bd3Ef/ABLfkIPzbiKTy9d/56L+lT6J9yX6itWmZufK7WRh+Xrv/PRf0o8vXf8Anov6VuUUC9r5Iw/L13/nov6UeXrv/PRf0rcooD2vkjD8vXf+ei/pR5eu/wDPRf0rcooD2vkjD8vXf+ei/pVHU01IRJ9tYMu75QPWuqpGRWILKCR0yOlA41rO9kYejxakuDIdsHpJyfwpG1CEOR5b8H+9W9XISf61vqa0grmNSfM7l/8AtGH/AJ5P/wB9Cj+0Yf8Ank//AH0K5TWvFmk6DcR299LK1xIpZYLeF5pNo6ttUEge9XtL1Wy1qwS902dZ4HyAy9iOoI6g+1aWRldm7/aMP/PJ/wDvoUf2jD/zyf8A76FZ1FPlQXNH+0Yf+eT/APfQo/tGH/nk/wD30KzqKOVBc0f7Rh/55P8A99Cj+0Yf+eT/APfQrOoo5UFzR/tGH/nk/wD30KllvolEeY35TI+asmp7n7sP/XMfzNLlQXLX9ow/88n/AO+hR/aMP/PJ/wDvoVg6tq9jolg15qc6wQqQMkEkk9AAOSfYVU0XxVpWvzSw2Esi3EIDPBPC0UgB6HawBx70cqC7Op/tGH/nk/8A30KP7Rh/55P/AN9Cs6inyoLmj/aMP/PJ/wDvoUf2jD/zyf8A76FZ1FHKguaP9ow/88n/AO+hR/aMP/PJ/wDvoVnUUcqC5o/2jD/zyf8A76FSrfRG2ZvLfAYDGayanT/jxk/3xScUO5a/tGH/AJ5P/wB9Cj+0Yf8Ank//AH0KzqyIPFGkXPiWXQbe7WXUIYjLJGgJCDIHLdM8jjrRyoV2dR/aMP8Azyf/AL6FH9ow/wDPJ/8AvoVnUU+VBc0f7Rh/55P/AN9Cj+0Yf+eT/wDfQrOoo5UFzR/tGH/nk/8A30KP7Rh/55P/AN9Cs6ijlQXNH+0Yf+eT/wDfQqW3vonmCiNwee/tWTU9n/x9L9D/ACpOKsFy1/aMP/PJ/wDvoUf2jD/zyf8A76FZ1YGreNdE0a+azu55WnjXdKsFu8vlL6uVB2j60cqC7Ow/tGH/AJ5P/wB9Cj+0Yf8Ank//AH0KyLS7t7+0iurOVZoJVDJIhyGHrU1HKguaP9ow/wDPJ/8AvoUf2jD/AM8n/wC+hWdRT5UFzR/tGH/nk/8A30KP7Rh/55P/AN9Cs6ijlQXNH+0Yf+eT/wDfQpf7Rh/55P8A99Cs2ijlQXOuiO6FCOhFPqO3/wCPaP8A3RUlcxoFFFFABRRRQBS1b/jwb6isCt/Vv+PBvqKwKR00vhOOf/ktsX/YAP8A6UVp6Prk+o+J9d02WNFi054ljZerb03HNNbRLk/EZNdyn2VdLNoRn5t/m7+npiqNxo+u6X4qv9U0BLS4h1JEE8dw5UxugIDDHUY7UFaobL4uu4/D/iS/8iMvpMzxxLzhwoB5/Ouf8Wah4wvfh5dalJ9hsLeWKNxErOZlBdf4hwDWrZ+ENXj8I+IdPvZ4ZrzU5nkSRThfmA/LpW3rugTav4Em0VJFjne3RFc8qGXBH4ZFAatGD4mGproGhf2y9vJP/blng24YLt3jHXv1q3rHjC4HiK40fSJdPgezRWuLi+kIUMwyFVRyTjnNTahpGta3oulx38Ntb3VpqUFxIschZTHG2SQfX2qHVPCt7b+JrnWdHtbC+F6iC4tr1ejKMBlbBxx1HtQGpf8ACfid9ce9tLtYBeWLhXa2ffHICMhlP9K6Ssbw7p95ZW0r6jDZQTSvkR2ce1UX0J7mtmgpbBRRRQM19E+5L9RWrWVon3JfqK1aZyVPiYUUUUEBRRRQAUUUUAFFFFABXISf61vqa6+uQk/1rfU1rTJkcZ4UUXHjnxZdzczJcQ26Z6rGIwQB7EsTS+EgLbxh4ps4eIFuI5VUdFZl+b+VSX+i61pviS51jwz9mmF9Gq3VtcsVG5eFcEd8cEVe8K6DPo8F3cajKs2o383nXLoPlB6BR7AVZJvUUUVQgooooAKKKKACp7n7sP8A1zH8zUFT3P3Yf+uY/maBnD+JlF18QPDFrPzApmnCnoXVQB/OjxEBbfEfwtcwgLLOLi3kI6smwMAfoRWl4o0K51X7Fe6XKkOo6fL5sDSfdbIwyn2Iqnpuiaxf+J4db8S/Zoms4mitLa3YsqlvvOSe5xipA6uiiiqEFFFFABRRRQAVOn/HjJ/vioKnT/jxk/3xQxldgGUg9CMGuDstIsdE+KthZ6ZAIYRpM7EA5LMZUJYk8kn1Nd7WBLoly/xAttaBT7NFYSW7DPzbmdSOPTikwN+iiimIKKKKACiiigAqez/4+l+h/lUFT2f/AB9L9D/Kh7DID0Ncb8O41n0vVruYBprrUp/NJHJAOAD+FdlXGNoniLQ7/UP+EZNnLaX8hm2XLFTbyHqRjqO+KTAk+HP7rSdRtE/1NrqM8UQ9F3ZArr6yPDGhDw9ocdmZfOmLNJNLj78jHLH8616a2AKKKKBBRRRQAUUUUAdbb/8AHtH/ALoqSo7f/j2j/wB0VJXKahRRRQAUUUUAVNSjaWzKoMnIrF+xXH/PP9RW/df6g/WqNI2hJpGd9iuP+ef6ij7Fcf8APP8AUVoZHqKKC+Zmf9iuP+ef6ij7Fcf88/1FaNNEiGQoHUuBkrnkCgOZlD7Fcf8APP8AUUfYrj/nn+orRooDmZnfYrj/AJ5/qKPsVx/zz/UVo0UBzMzvsVx/zz/UUfYrj/nn+orRooDmY/SIZIVk8xcZIxWjVWy6NVqmYSd2FFFFBIUUUUAFFFFABRRRQAVzD2NwZGIj7+orp6yT94/Wri7CZmfYLn/nn+oo+wXP/PP9RWlRWnMybGb9guf+ef6ij7Bc/wDPP9RWlRRzMLGb9guf+ef6ij7Bc/8APP8AUVpUUczCxm/YLn/nn+oo+wXP/PP9RWlRRzMLGb9guf8Ann+oqaeynZYsR9EAPI9TVynydE/3aXMwsZX2C5/55/qKPsFz/wA8/wBRWlRT5mFjN+wXP/PP9RR9guf+ef6itKijmYWM37Bc/wDPP9RR9guf+ef6itKijmYWM37Bc/8APP8AUUfYLn/nn+orSoo5mFjN+wXP/PP9RUy2U4s3XZyWBxkVcp4/1Lf7wpczCxlfYLn/AJ5/qKPsFz/zz/UVpUZp8zCxm/YLn/nn+oo+wXP/ADz/AFFaVFHMwsZv2C5/55/qKPsFz/zz/UVpUUczCxm/YLn/AJ5/qKPsFz/zz/UVpUUczCxm/YLn/nn+oqa1sp1uFLR4GD3HpVynw/60UuZhYyvsFz/zz/UUfYLn/nn+orSop8zCxm/YLn/nn+oo+wXP/PP9RWlRRzMLGb9guf8Ann+oo+wXP/PP9RWlRRzMLGb9guf+ef6ij7Bc/wDPP9RWlRRzMLGb9guf+ef6ij7Dc/8APP8AUVpUUczCxpwArboD1CipKbH/AKtfpTqwLCiiigAooooAhuv9QfrWVfErp9wQcERNgjtxWrdf6g/Wsm+5064x/wA8m/lSNI7Hk/gfSPCOpeCNKvNa1e4N/NAGnL6xMh3ZPYSDFd1ax6bZ+KbC1tdVugyae3lWRlZ43jBH7wk5yRkck1ifDbwrok/w30SW+0SykuGtgZHltlLE5PUkZqzcwCL4v2ISEiBNGlQBF4A3rgD8KBmrF488PTan9hjvt0hk8oOI28sv0278Yz+Nc9Nr2n6D8WtZl1Kfy/M0+2CIqlmc5foo5NZUWrw6G8Nv4V1Ca5DXmDot1akuu5/mIbHGOTk10enWiv8AGTV7qSD510y3VJCv3clsgH8qAOl0XXdO8Q2H2zSbhZ4g5RsAgow6qQeQfY1o1xvhGIw+OPGihCkbXsDqMYBJt0yR+NdlQMKKKKBhRRRQBasujVaqrZdGq1TMpbhRRRQSFFFFABRRRQAUUUUAFZJ+8frWtWSfvH61URM8/Fm3jfxvrdtqN3dx6Zo5jt4re1uHhDysu5nYqQTjIAFX/A15dxXutaBfXUt2dKuAsM0xy7ROMqCe5HTNZ8GpQeCvHevHWt8Fjqxjure52EpvVNjocdDwDV3wHFNfalrviGWF4YdTuF+zLIu1jGi4DY96oR2dFFFMAooooAKKKKACnydE/wB2mU+Ton+7SA4rxtdXd3rWieHLK6ltF1KR3uZYG2yCJBkhT2yTjNVIbVvBnj7SdPsbu7l0vWIpUMFzO03lTIAwZWYkjIzkZqz43SXTdf0LxIsLy29hI8V15a7ikbjG7HoCKqHUIfGfxE0afR902n6NHLNNc7CqtI67VQZ6nGSaAO/ooopgFFFFABRRRQAU8f6lv94Uynj/AFLf7wpAYHjXXJPDfgnVdWgAaa1t2aIN0L9F/UiuO1fw3eeGPB48SW2r6jLrdnGtzdSTXLtHcdC6GMnaF64wBjiuu8daLL4h8C6vpdrjz7i2YRZ7uOVH5gVyOu+MIfEvgb+w9PhmOuajGtrJZtEwaBjw5Y4wAOeaAPR7S4W7soLlPuzRrIPoRmpqgsbYWWnW9qDkQxLGD64GP6VPTAKKKKACiiigAp8P+sFMp8P+sFIBlebfEy31xXtb8ao1tp8N7bpFb2zFWlLONxkPce1ek1xvxPR5PC9qI1Zj/aNscAZ/jFAHYr90fSlpF+4PpS0wCiiigAooooAKKKKANWP/AFa/SnU2P/Vr9KdWRQUUUUAFFFFAEN1/qD9aodetW9QlMNoXUAnI61kf2jJ/zzj/ACpGsE2i2qqihUUKo6ADAFGxd+/aN2Mbsc1U/tGT/nnH+VH9oyf884/yoL5WWfJiEnmCJN/97aM/nTgihiwUbjwTjk1U/tGT/nnH+VH9oyf884/yoDlZbCKrEqoBbqQOtOql/aMn/POP8qP7Rk/55x/lQHKy7RVL+0ZP+ecf5Uf2jJ/zzj/KgfKy7RVL+0ZP+ecf5Uf2jJ/zzj/KgOVmvZdGq1Wfpdw06yFlUYI+6K0KZhLRhRRRQSFFFFABRRRQAUUUUAFZJ+8frWtXOPqUgkYeXHwfSrimxMtSRRyjEqK49GGacAAMAYA7CqP9pyf884/yo/tOT/nnH+VXysm5eoqj/acn/POP8qP7Tk/55x/lRysLl6iqP9pyf884/wAqP7Tk/wCecf5UcrC5eoqj/acn/POP8qP7Tk/55x/lRysLl6nydE/3azv7Tk/55x/lUs2oSKIsRx/MmenvRysLlkgMCGAIPUGmxxRxLiJFQeijFU/7Tk/55x/lR/acn/POP8qOVhcvUVR/tOT/AJ5x/lR/acn/ADzj/KjlYXL1FUf7Tk/55x/lR/acn/POP8qOVhcvUVR/tOT/AJ5x/lR/acn/ADzj/KjlYXL1PH+pb/eFZ39pyf8APOP8qmXUJDau/lx5DAdKOVhcsUwQxLIZFjQOerBRk/jVT+05P+ecf5Uf2nJ/zzj/ACo5WFy9RVH+05P+ecf5Uf2nJ/zzj/KjlYXL1FUf7Tk/55x/lR/acn/POP8AKjlYXL1FUf7Tk/55x/lR/acn/POP8qOVhcvU+H/WCs7+05P+ecf5VNbahI9wqmOMdeg9qOVhcsUjIrjDqGGc4IzVL+05P+ecf5Uf2nJ/zzj/ACo5WFy9RVH+05P+ecf5Uf2nJ/zzj/KjlYXL1FUf7Tk/55x/lR/acn/POP8AKjlYXL1FUf7Tk/55x/lR/acn/POP8qOVhcvUVR/tOT/nnH+VL/aUn/POP8qOVhc6KP8A1a/SnUyFt0CMe6g0+sSwooooAKKKKAKWrf8AHg31Fc+SFUljgAZJNdBq3/Hg31FcT4qiuZ/CGrRWOftL2cqxbeu7YcYpHTT+Ex4vF+p61JK3hLRRfWkTmP7bcz+TFIR12cEsPfGK1tC1fUNQeeDVtIm024gxklg8cgPdXHWofA1xZ3PgXR207aIVtI02j+EhQCD75zV7W9QtbDSbqW5vRaLHGS0owWT0OKC13NGq0d/azX01nHMjXECq0kYPKg9CfrXnEOsXOn65o8llda3NDe3IhmOoxARyAg8rwMGrejeH1HxT1pv7Svz5MVvLjzuHzk4PHI9qA5j0WiiigoKKKKACiiigDX0T7kv1FatZWifcl+orVpnJU+JhRRRQQFFFFABRRRQAUUUUAFchJ/rW+prr65CT/Wt9TWtMmRyvjLxpF4WtSILSS/vfLMogTgKg6szdhXQ2Nx9s0+3uSu3zolk25zjIzisL4gKv/CBay+0bvsjjOOcVraL/AMgGw/69o/8A0EVp1JL1FFFMQUUUUAFFFFABU9z92H/rmP5moKnufuw/9cx/M0DOf8R+IV0KC3WK2a7vbyXyra2Q4MjdeT2AHU1U0nxLeya6NG1/TV0+9khM0Bjm82OVQcHDYHIyOMVT8R4T4i+GHm/1RE6rnpv2jH6Zo8TEN8RPCSRcyq1yzAdk8sDn2zikB2FFFFMQUUUUAFFFFABU6f8AHjJ/vioKnT/jxk/3xQxlC/vYNN0+4vbxxHBbxtLIx7KBk1yK+ONTgs7fVtT0FrXRbllCz+eGljVjhXdMcDkdzjNXPiakknwz1wRAk/ZiSB/dBBb9M03xtLbN8L9QdSvkvZfusd8j5cfpSYHVgggEcg9KWqmkiRdGshNnzBAgfPrtGat0xBRRRQAUUUUAFT2f/H0v0P8AKoKns/8Aj6X6H+VD2GQVydx4s1O61K9g8N6MNQhsG2XE0lwIwXxkqgwdx/KusPQ4rjvhxhNH1KN+Jk1O483PXO7jP4UmB0Gg61b+INGh1C1DIsmQyP8AeRgcFT7g1o1x/wAOvm03VXj/ANQ+qXBiPYjd2/GuwprYAooooEFFFFABRRRQB1tv/wAe0f8AuipKjt/+PaP/AHRUlcpqFFFFABRRRQBS1b/jwb6iufrpb23a5tjGhAJPesz+xZ/76frSN6cklqcLN4GgivZrnQ9SvNHadi8sdqw8tmPU7TwD9KcngTTm029tr2e5vJr5QJrmaTMhxyMemDXcf2LP/fT9aP7Fn/vp+tBfNA4H/hBRNeWNxqOtX969jMJYBIQFUjjoBz9a0Ljwwj+JxrdpfXFpM6Kk8ceCs6qeAc/Wuu/sWf8Avp+tH9iz/wB9P1oDmgZ1FaP9iz/30/Wj+xZ/76frQPnj3M6itH+xZ/76frR/Ys/99P1oDnj3M6itH+xZ/wC+n60f2LP/AH0/WgOePcm0T7kv1FatU9Ps3tFcOwO49quUznm7y0CiiiggKKKKACiiigAooooAK5CT/Wt9TXX1hvok7OSJE5Oe9aQaW5MjnNZ0uLWtFutNndkjuYzGzL1ANWbS3W0s4bdCSsMaoCe4AxWx/YU//PSP9aP7Cn/56R/rWnNEmzMyitP+wp/+ekf60f2FP/z0j/WjmiFmZlFaf9hT/wDPSP8AWj+wp/8AnpH+tHNELMzKK0/7Cn/56R/rR/YU/wDz0j/WjmiFmZlT3P3Yf+uY/mauf2FP/wA9I/1qSXRppBHh0+Vdpo5kOzOV13QbXX7JYLovG8biSGaI4eJx0INU9G8KxaZqb6ld3tzqV80flLPckZROu1QOBXZf2FP/AM9I/wBaP7Cn/wCekf60c0RWZmUVp/2FP/z0j/Wj+wp/+ekf60c0QszMorT/ALCn/wCekf60f2FP/wA9I/1o5ohZmZRWn/YU/wDz0j/Wj+wp/wDnpH+tHNELMzKnT/jxk/3xVz+wp/8AnpH+tSro0wt2j3pksDRzIdmYc8EdzbyQToJIpFKOjDIYEYIrlYPh9axm3gn1K9udNtXDw2Ergxrg5UepA9DXoP8AYU//AD0j/Wj+wp/+ekf60c0RWZmdKK0/7Cn/AOekf60f2FP/AM9I/wBaOaIWZmUVp/2FP/z0j/Wj+wp/+ekf60c0QszMorT/ALCn/wCekf60f2FP/wA9I/1o5ohZmZU9n/x9L9D/ACq5/YU//PSP9akg0aaKYOzoQM9PpQ5Kw7MyK5nUPBcV1qFxd2GpXmmm7H+kpbMAsvbPPQ47iu5/sKf/AJ6R/rR/YU//AD0j/WjmiKzMDStLtdG0yGwsE2QQrhR3Puferlaf9hT/APPSP9aP7Cn/AOekf60c0QszMorT/sKf/npH+tH9hT/89I/1o5ohZmZRWn/YU/8Az0j/AFo/sKf/AJ6R/rRzRCzMyitP+wp/+ekf60f2FP8A89I/1o5ohZm1b/8AHtH/ALoqSmRIUhRT1UYp9c5oFFFFABRRRQAUUUUAFFFFABRRRQAUUUUAFFFFABRRRQAUUUUAFFFFABRRRQAUUUUAFFFFABRRRQAUUUUAFFFFABRRRQAUUUUAFFFFABRRRQAUUUUAFFFFABRRRQAUUUUAFFFFABRRRQAUUUUAFFFFABRRRQAUUUUAFFFFABRRRQAUUUUAFFFFABRRRQAUUUUAf//Z)"
      ]
    },
    {
      "cell_type": "code",
      "metadata": {
        "id": "Vd8mshivXpqT",
        "outputId": "6a045298-275e-4084-8717-6a10648c7258",
        "colab": {
          "base_uri": "https://localhost:8080/"
        }
      },
      "source": [
        "OneHotEncoder().fit_transform(X[[\"sexo\", \"ingreso\"]])"
      ],
      "execution_count": null,
      "outputs": [
        {
          "output_type": "execute_result",
          "data": {
            "text/plain": [
              "<5x5 sparse matrix of type '<class 'numpy.float64'>'\n",
              "\twith 10 stored elements in Compressed Sparse Row format>"
            ]
          },
          "metadata": {
            "tags": []
          },
          "execution_count": 24
        }
      ]
    },
    {
      "cell_type": "code",
      "metadata": {
        "id": "OUTQ9mqyXpqW",
        "outputId": "c0f7c250-e4f4-4b5f-e6b0-427e1de7c682",
        "colab": {
          "base_uri": "https://localhost:8080/"
        }
      },
      "source": [
        "OneHotEncoder().fit_transform(X).toarray()"
      ],
      "execution_count": null,
      "outputs": [
        {
          "output_type": "execute_result",
          "data": {
            "text/plain": [
              "array([[0., 1., 1., 0., 0., 0., 0., 1.],\n",
              "       [0., 1., 1., 0., 0., 1., 0., 0.],\n",
              "       [1., 0., 0., 0., 1., 1., 0., 0.],\n",
              "       [1., 0., 0., 1., 0., 0., 1., 0.],\n",
              "       [1., 0., 0., 1., 0., 0., 0., 1.]])"
            ]
          },
          "metadata": {
            "tags": []
          },
          "execution_count": 25
        }
      ]
    },
    {
      "cell_type": "code",
      "metadata": {
        "id": "dmYXpwCfXpqZ",
        "outputId": "bee911a7-ec1a-452c-e9eb-e251dad576e0",
        "colab": {
          "base_uri": "https://localhost:8080/",
          "height": 204
        }
      },
      "source": [
        "X"
      ],
      "execution_count": null,
      "outputs": [
        {
          "output_type": "execute_result",
          "data": {
            "text/html": [
              "<div>\n",
              "<style scoped>\n",
              "    .dataframe tbody tr th:only-of-type {\n",
              "        vertical-align: middle;\n",
              "    }\n",
              "\n",
              "    .dataframe tbody tr th {\n",
              "        vertical-align: top;\n",
              "    }\n",
              "\n",
              "    .dataframe thead th {\n",
              "        text-align: right;\n",
              "    }\n",
              "</style>\n",
              "<table border=\"1\" class=\"dataframe\">\n",
              "  <thead>\n",
              "    <tr style=\"text-align: right;\">\n",
              "      <th></th>\n",
              "      <th>sexo</th>\n",
              "      <th>provincia</th>\n",
              "      <th>ingreso</th>\n",
              "    </tr>\n",
              "  </thead>\n",
              "  <tbody>\n",
              "    <tr>\n",
              "      <th>0</th>\n",
              "      <td>M</td>\n",
              "      <td>CABA</td>\n",
              "      <td>medio</td>\n",
              "    </tr>\n",
              "    <tr>\n",
              "      <th>1</th>\n",
              "      <td>M</td>\n",
              "      <td>CABA</td>\n",
              "      <td>alto</td>\n",
              "    </tr>\n",
              "    <tr>\n",
              "      <th>2</th>\n",
              "      <td>F</td>\n",
              "      <td>PBA</td>\n",
              "      <td>alto</td>\n",
              "    </tr>\n",
              "    <tr>\n",
              "      <th>3</th>\n",
              "      <td>F</td>\n",
              "      <td>Córdoba</td>\n",
              "      <td>bajo</td>\n",
              "    </tr>\n",
              "    <tr>\n",
              "      <th>4</th>\n",
              "      <td>F</td>\n",
              "      <td>Córdoba</td>\n",
              "      <td>medio</td>\n",
              "    </tr>\n",
              "  </tbody>\n",
              "</table>\n",
              "</div>"
            ],
            "text/plain": [
              "  sexo provincia ingreso\n",
              "0    M      CABA   medio\n",
              "1    M      CABA    alto\n",
              "2    F       PBA    alto\n",
              "3    F   Córdoba    bajo\n",
              "4    F   Córdoba   medio"
            ]
          },
          "metadata": {
            "tags": []
          },
          "execution_count": 26
        }
      ]
    },
    {
      "cell_type": "code",
      "metadata": {
        "id": "QV09ESRDXpqd",
        "outputId": "768eb4de-9e63-4fa8-e2f0-a88e3b59cb42",
        "colab": {
          "base_uri": "https://localhost:8080/",
          "height": 204
        }
      },
      "source": [
        "encoder = OneHotEncoder().fit(X)\n",
        "pd.DataFrame(encoder.transform(X).toarray(), columns=[c for cc in encoder.categories_ for c in cc])"
      ],
      "execution_count": null,
      "outputs": [
        {
          "output_type": "execute_result",
          "data": {
            "text/html": [
              "<div>\n",
              "<style scoped>\n",
              "    .dataframe tbody tr th:only-of-type {\n",
              "        vertical-align: middle;\n",
              "    }\n",
              "\n",
              "    .dataframe tbody tr th {\n",
              "        vertical-align: top;\n",
              "    }\n",
              "\n",
              "    .dataframe thead th {\n",
              "        text-align: right;\n",
              "    }\n",
              "</style>\n",
              "<table border=\"1\" class=\"dataframe\">\n",
              "  <thead>\n",
              "    <tr style=\"text-align: right;\">\n",
              "      <th></th>\n",
              "      <th>F</th>\n",
              "      <th>M</th>\n",
              "      <th>CABA</th>\n",
              "      <th>Córdoba</th>\n",
              "      <th>PBA</th>\n",
              "      <th>alto</th>\n",
              "      <th>bajo</th>\n",
              "      <th>medio</th>\n",
              "    </tr>\n",
              "  </thead>\n",
              "  <tbody>\n",
              "    <tr>\n",
              "      <th>0</th>\n",
              "      <td>0.0</td>\n",
              "      <td>1.0</td>\n",
              "      <td>1.0</td>\n",
              "      <td>0.0</td>\n",
              "      <td>0.0</td>\n",
              "      <td>0.0</td>\n",
              "      <td>0.0</td>\n",
              "      <td>1.0</td>\n",
              "    </tr>\n",
              "    <tr>\n",
              "      <th>1</th>\n",
              "      <td>0.0</td>\n",
              "      <td>1.0</td>\n",
              "      <td>1.0</td>\n",
              "      <td>0.0</td>\n",
              "      <td>0.0</td>\n",
              "      <td>1.0</td>\n",
              "      <td>0.0</td>\n",
              "      <td>0.0</td>\n",
              "    </tr>\n",
              "    <tr>\n",
              "      <th>2</th>\n",
              "      <td>1.0</td>\n",
              "      <td>0.0</td>\n",
              "      <td>0.0</td>\n",
              "      <td>0.0</td>\n",
              "      <td>1.0</td>\n",
              "      <td>1.0</td>\n",
              "      <td>0.0</td>\n",
              "      <td>0.0</td>\n",
              "    </tr>\n",
              "    <tr>\n",
              "      <th>3</th>\n",
              "      <td>1.0</td>\n",
              "      <td>0.0</td>\n",
              "      <td>0.0</td>\n",
              "      <td>1.0</td>\n",
              "      <td>0.0</td>\n",
              "      <td>0.0</td>\n",
              "      <td>1.0</td>\n",
              "      <td>0.0</td>\n",
              "    </tr>\n",
              "    <tr>\n",
              "      <th>4</th>\n",
              "      <td>1.0</td>\n",
              "      <td>0.0</td>\n",
              "      <td>0.0</td>\n",
              "      <td>1.0</td>\n",
              "      <td>0.0</td>\n",
              "      <td>0.0</td>\n",
              "      <td>0.0</td>\n",
              "      <td>1.0</td>\n",
              "    </tr>\n",
              "  </tbody>\n",
              "</table>\n",
              "</div>"
            ],
            "text/plain": [
              "     F    M  CABA  Córdoba  PBA  alto  bajo  medio\n",
              "0  0.0  1.0   1.0      0.0  0.0   0.0   0.0    1.0\n",
              "1  0.0  1.0   1.0      0.0  0.0   1.0   0.0    0.0\n",
              "2  1.0  0.0   0.0      0.0  1.0   1.0   0.0    0.0\n",
              "3  1.0  0.0   0.0      1.0  0.0   0.0   1.0    0.0\n",
              "4  1.0  0.0   0.0      1.0  0.0   0.0   0.0    1.0"
            ]
          },
          "metadata": {
            "tags": []
          },
          "execution_count": 27
        }
      ]
    },
    {
      "cell_type": "code",
      "metadata": {
        "id": "SnsH09A7Xpqg",
        "outputId": "6519ef7e-c4b9-441c-8fab-bf79c69f852b",
        "colab": {
          "base_uri": "https://localhost:8080/",
          "height": 204
        }
      },
      "source": [
        "pd.DataFrame(encoder.transform(X).toarray(),\n",
        "            columns=[\n",
        "                f\"{column}_{category}\" for categories, column in zip(encoder.categories_, X.columns)\n",
        "                for category in categories\n",
        "            ])"
      ],
      "execution_count": null,
      "outputs": [
        {
          "output_type": "execute_result",
          "data": {
            "text/html": [
              "<div>\n",
              "<style scoped>\n",
              "    .dataframe tbody tr th:only-of-type {\n",
              "        vertical-align: middle;\n",
              "    }\n",
              "\n",
              "    .dataframe tbody tr th {\n",
              "        vertical-align: top;\n",
              "    }\n",
              "\n",
              "    .dataframe thead th {\n",
              "        text-align: right;\n",
              "    }\n",
              "</style>\n",
              "<table border=\"1\" class=\"dataframe\">\n",
              "  <thead>\n",
              "    <tr style=\"text-align: right;\">\n",
              "      <th></th>\n",
              "      <th>sexo_F</th>\n",
              "      <th>sexo_M</th>\n",
              "      <th>provincia_CABA</th>\n",
              "      <th>provincia_Córdoba</th>\n",
              "      <th>provincia_PBA</th>\n",
              "      <th>ingreso_alto</th>\n",
              "      <th>ingreso_bajo</th>\n",
              "      <th>ingreso_medio</th>\n",
              "    </tr>\n",
              "  </thead>\n",
              "  <tbody>\n",
              "    <tr>\n",
              "      <th>0</th>\n",
              "      <td>0.0</td>\n",
              "      <td>1.0</td>\n",
              "      <td>1.0</td>\n",
              "      <td>0.0</td>\n",
              "      <td>0.0</td>\n",
              "      <td>0.0</td>\n",
              "      <td>0.0</td>\n",
              "      <td>1.0</td>\n",
              "    </tr>\n",
              "    <tr>\n",
              "      <th>1</th>\n",
              "      <td>0.0</td>\n",
              "      <td>1.0</td>\n",
              "      <td>1.0</td>\n",
              "      <td>0.0</td>\n",
              "      <td>0.0</td>\n",
              "      <td>1.0</td>\n",
              "      <td>0.0</td>\n",
              "      <td>0.0</td>\n",
              "    </tr>\n",
              "    <tr>\n",
              "      <th>2</th>\n",
              "      <td>1.0</td>\n",
              "      <td>0.0</td>\n",
              "      <td>0.0</td>\n",
              "      <td>0.0</td>\n",
              "      <td>1.0</td>\n",
              "      <td>1.0</td>\n",
              "      <td>0.0</td>\n",
              "      <td>0.0</td>\n",
              "    </tr>\n",
              "    <tr>\n",
              "      <th>3</th>\n",
              "      <td>1.0</td>\n",
              "      <td>0.0</td>\n",
              "      <td>0.0</td>\n",
              "      <td>1.0</td>\n",
              "      <td>0.0</td>\n",
              "      <td>0.0</td>\n",
              "      <td>1.0</td>\n",
              "      <td>0.0</td>\n",
              "    </tr>\n",
              "    <tr>\n",
              "      <th>4</th>\n",
              "      <td>1.0</td>\n",
              "      <td>0.0</td>\n",
              "      <td>0.0</td>\n",
              "      <td>1.0</td>\n",
              "      <td>0.0</td>\n",
              "      <td>0.0</td>\n",
              "      <td>0.0</td>\n",
              "      <td>1.0</td>\n",
              "    </tr>\n",
              "  </tbody>\n",
              "</table>\n",
              "</div>"
            ],
            "text/plain": [
              "   sexo_F  sexo_M  provincia_CABA  ...  ingreso_alto  ingreso_bajo  ingreso_medio\n",
              "0     0.0     1.0             1.0  ...           0.0           0.0            1.0\n",
              "1     0.0     1.0             1.0  ...           1.0           0.0            0.0\n",
              "2     1.0     0.0             0.0  ...           1.0           0.0            0.0\n",
              "3     1.0     0.0             0.0  ...           0.0           1.0            0.0\n",
              "4     1.0     0.0             0.0  ...           0.0           0.0            1.0\n",
              "\n",
              "[5 rows x 8 columns]"
            ]
          },
          "metadata": {
            "tags": []
          },
          "execution_count": 28
        }
      ]
    },
    {
      "cell_type": "markdown",
      "metadata": {
        "id": "rxsAi4OoXpql"
      },
      "source": [
        "### C.- Escalado y normalización\n",
        "\n",
        "En casi todos los algoritmos basados en algebra (regresiones y redes neuronales), los parámetros del modelo se encuentran con alguna variante de `gradient descent` y por tanto adolecen se sensibilidad a la escala de los parámetros. Por ello, tiende a ser útil llevar a todas las variables a un rango parejo. Esto normalmente se logra con el escalado de cada columna para que estén en el mismo rango o tengan media y desvíos igual.\n",
        "\n"
      ]
    },
    {
      "cell_type": "code",
      "metadata": {
        "id": "zbFRoxwsXpql",
        "outputId": "4d5fbade-c734-4830-cc04-1462d6ea1e45",
        "colab": {
          "base_uri": "https://localhost:8080/",
          "height": 142
        }
      },
      "source": [
        "from sklearn.preprocessing import StandardScaler, MinMaxScaler, MaxAbsScaler, Normalizer\n",
        "\n",
        "\n",
        "X = pd.DataFrame([\n",
        "    [1,-200,30000],\n",
        "    [2, 100, 50000],\n",
        "    [5,0, 100000]\n",
        "], columns=[f\"c{i}\" for i in range(3)])\n",
        "X"
      ],
      "execution_count": null,
      "outputs": [
        {
          "output_type": "execute_result",
          "data": {
            "text/html": [
              "<div>\n",
              "<style scoped>\n",
              "    .dataframe tbody tr th:only-of-type {\n",
              "        vertical-align: middle;\n",
              "    }\n",
              "\n",
              "    .dataframe tbody tr th {\n",
              "        vertical-align: top;\n",
              "    }\n",
              "\n",
              "    .dataframe thead th {\n",
              "        text-align: right;\n",
              "    }\n",
              "</style>\n",
              "<table border=\"1\" class=\"dataframe\">\n",
              "  <thead>\n",
              "    <tr style=\"text-align: right;\">\n",
              "      <th></th>\n",
              "      <th>c0</th>\n",
              "      <th>c1</th>\n",
              "      <th>c2</th>\n",
              "    </tr>\n",
              "  </thead>\n",
              "  <tbody>\n",
              "    <tr>\n",
              "      <th>0</th>\n",
              "      <td>1</td>\n",
              "      <td>-200</td>\n",
              "      <td>30000</td>\n",
              "    </tr>\n",
              "    <tr>\n",
              "      <th>1</th>\n",
              "      <td>2</td>\n",
              "      <td>100</td>\n",
              "      <td>50000</td>\n",
              "    </tr>\n",
              "    <tr>\n",
              "      <th>2</th>\n",
              "      <td>5</td>\n",
              "      <td>0</td>\n",
              "      <td>100000</td>\n",
              "    </tr>\n",
              "  </tbody>\n",
              "</table>\n",
              "</div>"
            ],
            "text/plain": [
              "   c0   c1      c2\n",
              "0   1 -200   30000\n",
              "1   2  100   50000\n",
              "2   5    0  100000"
            ]
          },
          "metadata": {
            "tags": []
          },
          "execution_count": 6
        }
      ]
    },
    {
      "cell_type": "markdown",
      "metadata": {
        "id": "03OivlTlKs-3"
      },
      "source": [
        "Con `StandardScaler` podemos transformar las variables a valores con media 0 y varianza 1"
      ]
    },
    {
      "cell_type": "code",
      "metadata": {
        "id": "FfQXBjFLXpqr"
      },
      "source": [
        "StandardScaler().fit_transform(X)"
      ],
      "execution_count": null,
      "outputs": []
    },
    {
      "cell_type": "code",
      "metadata": {
        "id": "-YLejS2IXpqv"
      },
      "source": [
        "StandardScaler().fit_transform(X).mean(axis=0).round(10)"
      ],
      "execution_count": null,
      "outputs": []
    },
    {
      "cell_type": "code",
      "metadata": {
        "id": "-d06M6M4Xpqz"
      },
      "source": [
        "StandardScaler().fit_transform(X).std(axis=0)"
      ],
      "execution_count": null,
      "outputs": []
    },
    {
      "cell_type": "markdown",
      "metadata": {
        "id": "Re9hlVEMLPcl"
      },
      "source": [
        "También podemos escalarlos entre un valor mínimo y máximo, que por default es 0 y 1 usando `MinMaxScaler`"
      ]
    },
    {
      "cell_type": "code",
      "metadata": {
        "id": "ilODJqN9Xpq2"
      },
      "source": [
        "MinMaxScaler().fit_transform(X)"
      ],
      "execution_count": null,
      "outputs": []
    },
    {
      "cell_type": "markdown",
      "metadata": {
        "id": "YgLCi5n0LqwE"
      },
      "source": [
        "Y con `MaxAbsScaler` podemos escalarlo por el máximo valor absoluto, es decir, haciendo 1 el valor máximo (en terminos absolutos)"
      ]
    },
    {
      "cell_type": "code",
      "metadata": {
        "id": "STf8gq4oXpq5"
      },
      "source": [
        "MaxAbsScaler().fit_transform(X)"
      ],
      "execution_count": null,
      "outputs": []
    },
    {
      "cell_type": "markdown",
      "metadata": {
        "id": "u8nJ2IkUMD3x"
      },
      "source": [
        "La normalización es similar pero actua a nivel fila, y se usa cuadno vamos a usar algoritmos que miden distancias entre vectores\n"
      ]
    },
    {
      "cell_type": "code",
      "metadata": {
        "id": "uH6Q8EH6Xpq8"
      },
      "source": [
        "Normalizer().fit_transform(X)"
      ],
      "execution_count": null,
      "outputs": []
    },
    {
      "cell_type": "code",
      "metadata": {
        "id": "6ePtJYrHXpq_"
      },
      "source": [
        "X"
      ],
      "execution_count": null,
      "outputs": []
    },
    {
      "cell_type": "code",
      "metadata": {
        "id": "MnBYu4TQXprC"
      },
      "source": [
        "Normalizer().fit_transform(StandardScaler().fit_transform(X))"
      ],
      "execution_count": null,
      "outputs": []
    },
    {
      "cell_type": "code",
      "metadata": {
        "id": "llisoKdRXprH"
      },
      "source": [
        "transformada = Normalizer().fit_transform(StandardScaler().fit_transform(X))\n",
        "np.square(transformada)"
      ],
      "execution_count": null,
      "outputs": []
    },
    {
      "cell_type": "code",
      "metadata": {
        "id": "s5EqfN6GXprK"
      },
      "source": [
        "np.square(transformada).sum(axis=1)"
      ],
      "execution_count": null,
      "outputs": []
    },
    {
      "cell_type": "markdown",
      "metadata": {
        "id": "3M4bzWCYXprN"
      },
      "source": [
        "### Creación de Variables (Feature Engineering)"
      ]
    },
    {
      "cell_type": "code",
      "metadata": {
        "id": "i4lQXN78XprN"
      },
      "source": [
        "from sklearn.preprocessing import PolynomialFeatures\n",
        "\n",
        "X = pd.DataFrame([\n",
        "    [1,-20],\n",
        "    [2, 10],\n",
        "    [5,0]\n",
        "], columns=[f\"c{i+1}\" for i in range(2)])\n",
        "\n",
        "print(X)\n",
        "\n",
        "pd.DataFrame(PolynomialFeatures().fit_transform(X),\n",
        "             columns=[\"1\", \"c1\", \"c2\", \"c1^2\", \"c1*c2\", \"c2^2\"])"
      ],
      "execution_count": null,
      "outputs": []
    },
    {
      "cell_type": "markdown",
      "metadata": {
        "id": "-4ZxMwYaXprS"
      },
      "source": [
        "# Ejercitación\n",
        "\n",
        "### Leer los datos del titanic y transformarlos para lograr el mejor valor de la siguiente funcion"
      ]
    },
    {
      "cell_type": "code",
      "metadata": {
        "id": "F_Y4EZ4rXprT"
      },
      "source": [
        "import pandas as pd\n",
        "from sklearn.linear_model import LogisticRegressionCV\n",
        "from sklearn.metrics import log_loss, accuracy_score, roc_auc_score\n",
        "from sklearn.model_selection import train_test_split"
      ],
      "execution_count": 7,
      "outputs": []
    },
    {
      "cell_type": "markdown",
      "metadata": {
        "id": "VHwrX2OrO_Rj"
      },
      "source": [
        "Creamos una función para calcular el resultado de un modelo simple de Regresión Logística"
      ]
    },
    {
      "cell_type": "code",
      "metadata": {
        "id": "x7yVB6HLO-la"
      },
      "source": [
        "def metric(X):\n",
        "    X_train, X_test, y_train, y_test = train_test_split(X.drop(\"Survived\", axis=1), X[\"Survived\"],\n",
        "                                                        test_size=0.25, random_state=42)\n",
        "    model = LogisticRegressionCV()\n",
        "    model.fit(X_train, y_train)\n",
        "    return log_loss(y_test,  model.predict_proba(X_test)), accuracy_score(y_test,  model.predict(X_test)), roc_auc_score(y_test,  model.predict(X_test))"
      ],
      "execution_count": 8,
      "outputs": []
    },
    {
      "cell_type": "markdown",
      "metadata": {
        "id": "ThxPkA5yO1b2"
      },
      "source": [
        "Leemos los Datos"
      ]
    },
    {
      "cell_type": "code",
      "metadata": {
        "id": "EkNjwcltXprV"
      },
      "source": [
        "try:\n",
        "    data = pd.read_csv(\"../data/titanic.csv\", index_col=\"PassengerId\")\n",
        "except:\n",
        "    data = pd.read_csv(\"https://raw.githubusercontent.com/Argentan/DMA_LAB2/master/data/titanic.csv\", index_col=\"PassengerId\")"
      ],
      "execution_count": 92,
      "outputs": []
    },
    {
      "cell_type": "markdown",
      "metadata": {
        "id": "3dLxvmrLPUye"
      },
      "source": [
        "Esta es la métrica base, sin hacer nada más que permitir que el modelo corra"
      ]
    },
    {
      "cell_type": "code",
      "metadata": {
        "id": "Mgt7m8glO0_n",
        "outputId": "d0497f06-1343-4a5f-efa1-839085b1a44d",
        "colab": {
          "base_uri": "https://localhost:8080/"
        }
      },
      "source": [
        "metric(data.fillna(99999).drop(data.select_dtypes(\"O\"), axis=1))"
      ],
      "execution_count": 10,
      "outputs": [
        {
          "output_type": "execute_result",
          "data": {
            "text/plain": [
              "(0.6452636223837003, 0.6591928251121076, 0.5956733187992621)"
            ]
          },
          "metadata": {},
          "execution_count": 10
        }
      ]
    },
    {
      "cell_type": "markdown",
      "metadata": {
        "id": "bOeLHS__SIGn"
      },
      "source": [
        "Vemos el resultado de estas métricas si predijeramos todos ceros (nadie sobrevive)"
      ]
    },
    {
      "cell_type": "code",
      "metadata": {
        "id": "-BeJ6e-lXprY",
        "outputId": "43d5e9fb-3898-476b-98c2-93ed1b1496d0",
        "colab": {
          "base_uri": "https://localhost:8080/"
        }
      },
      "source": [
        "accuracy_score(data[\"Survived\"],  np.zeros(data.shape[0]))"
      ],
      "execution_count": 13,
      "outputs": [
        {
          "output_type": "execute_result",
          "data": {
            "text/plain": [
              "0.6161616161616161"
            ]
          },
          "metadata": {},
          "execution_count": 13
        }
      ]
    },
    {
      "cell_type": "code",
      "metadata": {
        "id": "N2OXJVguQTID",
        "outputId": "d878efc9-f896-466d-9579-b75c7d4af289",
        "colab": {
          "base_uri": "https://localhost:8080/"
        }
      },
      "source": [
        "roc_auc_score(data[\"Survived\"],  np.zeros(data.shape[0]))"
      ],
      "execution_count": 153,
      "outputs": [
        {
          "output_type": "execute_result",
          "data": {
            "text/plain": [
              "0.5"
            ]
          },
          "metadata": {},
          "execution_count": 153
        }
      ]
    },
    {
      "cell_type": "markdown",
      "metadata": {
        "id": "xjJwS17WSRzh"
      },
      "source": [
        "Vemos los Nulos en las Variables"
      ]
    },
    {
      "cell_type": "code",
      "metadata": {
        "id": "KugG5BVRXprb",
        "outputId": "6b3ef1a9-5c40-4583-e5e8-ab42943133bb",
        "colab": {
          "base_uri": "https://localhost:8080/"
        }
      },
      "source": [
        "data.isnull().sum()"
      ],
      "execution_count": 11,
      "outputs": [
        {
          "output_type": "execute_result",
          "data": {
            "text/plain": [
              "Survived      0\n",
              "Pclass        0\n",
              "Name          0\n",
              "Sex           0\n",
              "Age         177\n",
              "SibSp         0\n",
              "Parch         0\n",
              "Ticket        0\n",
              "Fare          0\n",
              "Cabin       687\n",
              "Embarked      2\n",
              "dtype: int64"
            ]
          },
          "metadata": {},
          "execution_count": 11
        }
      ]
    },
    {
      "cell_type": "markdown",
      "metadata": {
        "id": "3hEKox9uSU1Z"
      },
      "source": [
        "Vemos las variables de tipo Categóricas"
      ]
    },
    {
      "cell_type": "code",
      "metadata": {
        "id": "0OzSVHyqXpre"
      },
      "source": [
        "data.select_dtypes(\"O\")"
      ],
      "execution_count": 14,
      "outputs": [
        {
          "output_type": "execute_result",
          "data": {
            "text/plain": [
              "                                                          Name     Sex  \\\n",
              "PassengerId                                                              \n",
              "1                                      Braund, Mr. Owen Harris    male   \n",
              "2            Cumings, Mrs. John Bradley (Florence Briggs Th...  female   \n",
              "3                                       Heikkinen, Miss. Laina  female   \n",
              "4                 Futrelle, Mrs. Jacques Heath (Lily May Peel)  female   \n",
              "5                                     Allen, Mr. William Henry    male   \n",
              "...                                                        ...     ...   \n",
              "887                                      Montvila, Rev. Juozas    male   \n",
              "888                               Graham, Miss. Margaret Edith  female   \n",
              "889                   Johnston, Miss. Catherine Helen \"Carrie\"  female   \n",
              "890                                      Behr, Mr. Karl Howell    male   \n",
              "891                                        Dooley, Mr. Patrick    male   \n",
              "\n",
              "                       Ticket Cabin Embarked  \n",
              "PassengerId                                   \n",
              "1                   A/5 21171   NaN        S  \n",
              "2                    PC 17599   C85        C  \n",
              "3            STON/O2. 3101282   NaN        S  \n",
              "4                      113803  C123        S  \n",
              "5                      373450   NaN        S  \n",
              "...                       ...   ...      ...  \n",
              "887                    211536   NaN        S  \n",
              "888                    112053   B42        S  \n",
              "889                W./C. 6607   NaN        S  \n",
              "890                    111369  C148        C  \n",
              "891                    370376   NaN        Q  \n",
              "\n",
              "[891 rows x 5 columns]"
            ],
            "text/html": "<div>\n<style scoped>\n    .dataframe tbody tr th:only-of-type {\n        vertical-align: middle;\n    }\n\n    .dataframe tbody tr th {\n        vertical-align: top;\n    }\n\n    .dataframe thead th {\n        text-align: right;\n    }\n</style>\n<table border=\"1\" class=\"dataframe\">\n  <thead>\n    <tr style=\"text-align: right;\">\n      <th></th>\n      <th>Name</th>\n      <th>Sex</th>\n      <th>Ticket</th>\n      <th>Cabin</th>\n      <th>Embarked</th>\n    </tr>\n    <tr>\n      <th>PassengerId</th>\n      <th></th>\n      <th></th>\n      <th></th>\n      <th></th>\n      <th></th>\n    </tr>\n  </thead>\n  <tbody>\n    <tr>\n      <th>1</th>\n      <td>Braund, Mr. Owen Harris</td>\n      <td>male</td>\n      <td>A/5 21171</td>\n      <td>NaN</td>\n      <td>S</td>\n    </tr>\n    <tr>\n      <th>2</th>\n      <td>Cumings, Mrs. John Bradley (Florence Briggs Th...</td>\n      <td>female</td>\n      <td>PC 17599</td>\n      <td>C85</td>\n      <td>C</td>\n    </tr>\n    <tr>\n      <th>3</th>\n      <td>Heikkinen, Miss. Laina</td>\n      <td>female</td>\n      <td>STON/O2. 3101282</td>\n      <td>NaN</td>\n      <td>S</td>\n    </tr>\n    <tr>\n      <th>4</th>\n      <td>Futrelle, Mrs. Jacques Heath (Lily May Peel)</td>\n      <td>female</td>\n      <td>113803</td>\n      <td>C123</td>\n      <td>S</td>\n    </tr>\n    <tr>\n      <th>5</th>\n      <td>Allen, Mr. William Henry</td>\n      <td>male</td>\n      <td>373450</td>\n      <td>NaN</td>\n      <td>S</td>\n    </tr>\n    <tr>\n      <th>...</th>\n      <td>...</td>\n      <td>...</td>\n      <td>...</td>\n      <td>...</td>\n      <td>...</td>\n    </tr>\n    <tr>\n      <th>887</th>\n      <td>Montvila, Rev. Juozas</td>\n      <td>male</td>\n      <td>211536</td>\n      <td>NaN</td>\n      <td>S</td>\n    </tr>\n    <tr>\n      <th>888</th>\n      <td>Graham, Miss. Margaret Edith</td>\n      <td>female</td>\n      <td>112053</td>\n      <td>B42</td>\n      <td>S</td>\n    </tr>\n    <tr>\n      <th>889</th>\n      <td>Johnston, Miss. Catherine Helen \"Carrie\"</td>\n      <td>female</td>\n      <td>W./C. 6607</td>\n      <td>NaN</td>\n      <td>S</td>\n    </tr>\n    <tr>\n      <th>890</th>\n      <td>Behr, Mr. Karl Howell</td>\n      <td>male</td>\n      <td>111369</td>\n      <td>C148</td>\n      <td>C</td>\n    </tr>\n    <tr>\n      <th>891</th>\n      <td>Dooley, Mr. Patrick</td>\n      <td>male</td>\n      <td>370376</td>\n      <td>NaN</td>\n      <td>Q</td>\n    </tr>\n  </tbody>\n</table>\n<p>891 rows × 5 columns</p>\n</div>"
          },
          "metadata": {},
          "execution_count": 14
        }
      ]
    },
    {
      "cell_type": "markdown",
      "metadata": {
        "id": "ETkWXr2RSnsq"
      },
      "source": [
        "Otras características a estudiar:"
      ]
    },
    {
      "cell_type": "code",
      "metadata": {
        "id": "VzxQnKPPXprh",
        "outputId": "b3d0eea3-1bed-45ab-eec8-7bc2b5223b2f",
        "colab": {
          "base_uri": "https://localhost:8080/",
          "height": 164
        }
      },
      "source": [
        "data.Cabin.fillna(\"NA\").value_counts()"
      ],
      "execution_count": 15,
      "outputs": [
        {
          "output_type": "execute_result",
          "data": {
            "text/plain": [
              "NA             687\n",
              "C23 C25 C27      4\n",
              "G6               4\n",
              "B96 B98          4\n",
              "F2               3\n",
              "              ... \n",
              "E36              1\n",
              "A23              1\n",
              "A14              1\n",
              "A5               1\n",
              "A24              1\n",
              "Name: Cabin, Length: 148, dtype: int64"
            ]
          },
          "metadata": {},
          "execution_count": 15
        }
      ]
    },
    {
      "cell_type": "code",
      "metadata": {
        "id": "zszQqwtxXprm"
      },
      "source": [
        "data.Cabin.str[0].fillna(\"NA\").value_counts()"
      ],
      "execution_count": 16,
      "outputs": [
        {
          "output_type": "execute_result",
          "data": {
            "text/plain": [
              "NA    687\n",
              "C      59\n",
              "B      47\n",
              "D      33\n",
              "E      32\n",
              "A      15\n",
              "F      13\n",
              "G       4\n",
              "T       1\n",
              "Name: Cabin, dtype: int64"
            ]
          },
          "metadata": {},
          "execution_count": 16
        }
      ]
    },
    {
      "cell_type": "code",
      "metadata": {
        "id": "Ft1IAP0CXpru"
      },
      "source": [
        "data.Name.str.split(\",\")"
      ],
      "execution_count": 20,
      "outputs": [
        {
          "output_type": "execute_result",
          "data": {
            "text/plain": [
              "PassengerId\n",
              "1                             [Braund,  Mr. Owen Harris]\n",
              "2      [Cumings,  Mrs. John Bradley (Florence Briggs ...\n",
              "3                              [Heikkinen,  Miss. Laina]\n",
              "4        [Futrelle,  Mrs. Jacques Heath (Lily May Peel)]\n",
              "5                            [Allen,  Mr. William Henry]\n",
              "                             ...                        \n",
              "887                             [Montvila,  Rev. Juozas]\n",
              "888                      [Graham,  Miss. Margaret Edith]\n",
              "889          [Johnston,  Miss. Catherine Helen \"Carrie\"]\n",
              "890                             [Behr,  Mr. Karl Howell]\n",
              "891                               [Dooley,  Mr. Patrick]\n",
              "Name: Name, Length: 891, dtype: object"
            ]
          },
          "metadata": {},
          "execution_count": 20
        }
      ]
    },
    {
      "cell_type": "code",
      "metadata": {
        "id": "2wRcs8l6Xpry"
      },
      "source": [
        "data.Name.str.split(\",\").str[0].value_counts()"
      ],
      "execution_count": 21,
      "outputs": [
        {
          "output_type": "execute_result",
          "data": {
            "text/plain": [
              "Andersson    9\n",
              "Sage         7\n",
              "Johnson      6\n",
              "Panula       6\n",
              "Skoog        6\n",
              "            ..\n",
              "Bengtsson    1\n",
              "Hawksford    1\n",
              "Givard       1\n",
              "Jalsevac     1\n",
              "Cumings      1\n",
              "Name: Name, Length: 667, dtype: int64"
            ]
          },
          "metadata": {},
          "execution_count": 21
        }
      ]
    },
    {
      "cell_type": "code",
      "metadata": {
        "id": "EFzWQS7Wu4uT"
      },
      "source": [
        "import pandas as pd"
      ],
      "execution_count": 23,
      "outputs": []
    },
    {
      "cell_type": "markdown",
      "metadata": {
        "id": "mRXxem4wS_kb"
      },
      "source": [
        "Consejos Adicionales para explorar:\n",
        "*    Analizar los valores vacios `\"\"`. Se puede asimilar a un Nulo?\n",
        "*    Analizar los valores cero `0`. Se puede asimilar a un Nulo?\n",
        "*    Se pueden agrupar pasajeros en grupos? Por ejemplo: Familia\n",
        "*    A partir de la edad, podemos crear una variable que mejore la separación del modelo?\n",
        "*    Se puede crear una variable \"Madre\"?\n",
        "*    Mejora el modelo si Normalizamos las variables continuas?\n",
        "*    Y si convertimos variables continuas en Rangos Fijos?"
      ]
    },
    {
      "cell_type": "code",
      "metadata": {
        "id": "h6MdWEJ221E8"
      },
      "source": [
        "data_1 = data.copy()"
      ],
      "execution_count": 24,
      "outputs": []
    },
    {
      "cell_type": "code",
      "metadata": {
        "id": "SVAgE9I1uxGl",
        "outputId": "c48aab21-8c85-48bd-d2cc-2db92a7acfb1",
        "colab": {
          "base_uri": "https://localhost:8080/"
        }
      },
      "source": [
        "#NULOS\n",
        "data_1.isnull().sum()"
      ],
      "execution_count": 25,
      "outputs": [
        {
          "output_type": "execute_result",
          "data": {
            "text/plain": [
              "Survived      0\n",
              "Pclass        0\n",
              "Name          0\n",
              "Sex           0\n",
              "Age         177\n",
              "SibSp         0\n",
              "Parch         0\n",
              "Ticket        0\n",
              "Fare          0\n",
              "Cabin       687\n",
              "Embarked      2\n",
              "dtype: int64"
            ]
          },
          "metadata": {},
          "execution_count": 25
        }
      ]
    },
    {
      "cell_type": "code",
      "metadata": {
        "id": "WOWLo-2E38Xw"
      },
      "source": [
        "from sklearn.impute import SimpleImputer\n",
        "import pandas as pd\n",
        "import numpy as np\n",
        "\n",
        "#media\n",
        "imputar_edad=SimpleImputer(missing_values=np.nan, strategy='mean')\n",
        "data_1['Age'] = imputar_edad.fit_transform(data_1['Age'].values.reshape(-1, 1))"
      ],
      "execution_count": 26,
      "outputs": []
    },
    {
      "cell_type": "code",
      "metadata": {
        "id": "mZTIHjR1_aC1",
        "outputId": "3f2bebc9-7aec-4f57-9c6b-a9e05748b860",
        "colab": {
          "base_uri": "https://localhost:8080/"
        }
      },
      "source": [
        "#Metrica Inicial\n",
        "metric(data.fillna(99999).drop(data.select_dtypes(\"O\"), axis=1))"
      ],
      "execution_count": 27,
      "outputs": [
        {
          "output_type": "execute_result",
          "data": {
            "text/plain": [
              "(0.6452636223837003, 0.6591928251121076, 0.5956733187992621)"
            ]
          },
          "metadata": {},
          "execution_count": 27
        }
      ]
    },
    {
      "cell_type": "code",
      "metadata": {
        "id": "8zKDFPrD83e_",
        "outputId": "0e7e5943-ed50-4359-cb17-d8a254135937",
        "colab": {
          "base_uri": "https://localhost:8080/"
        }
      },
      "source": [
        "#Metrica con edad Imputada. Mejora\n",
        "metric(data_1.drop(data_1.select_dtypes(\"O\"), axis=1))"
      ],
      "execution_count": 28,
      "outputs": [
        {
          "output_type": "execute_result",
          "data": {
            "text/plain": [
              "(0.5754307380381881, 0.7443946188340808, 0.6986416233439544)"
            ]
          },
          "metadata": {},
          "execution_count": 28
        }
      ]
    },
    {
      "cell_type": "code",
      "metadata": {
        "id": "_kmQ0aTAYDmz"
      },
      "source": [
        "data_2 = data_1.copy()"
      ],
      "execution_count": 29,
      "outputs": []
    },
    {
      "cell_type": "code",
      "metadata": {
        "id": "P_JMk14xYDFi"
      },
      "source": [
        "# COMPLETAR CON UN NUMERO ALTO LOS NA EN EMBARKED\n",
        "\n",
        "from sklearn.preprocessing import OrdinalEncoder, OneHotEncoder\n",
        "\n",
        "data_2[['Embarked']]=data_2[['Embarked']].fillna(999)"
      ],
      "execution_count": 30,
      "outputs": []
    },
    {
      "cell_type": "code",
      "metadata": {
        "id": "VYYUzCOQYLUB",
        "outputId": "5513ec18-692f-4c60-f2c1-b7ea6e87dbeb",
        "colab": {
          "base_uri": "https://localhost:8080/"
        }
      },
      "source": [
        "# COMPLETANDO LOS NA DE EMBARKD NO MEJORA\n",
        "metric(data_2.drop(data_2.select_dtypes(\"O\"), axis=1))"
      ],
      "execution_count": 31,
      "outputs": [
        {
          "output_type": "execute_result",
          "data": {
            "text/plain": [
              "(0.5754307380381881, 0.7443946188340808, 0.6986416233439544)"
            ]
          },
          "metadata": {},
          "execution_count": 31
        }
      ]
    },
    {
      "cell_type": "code",
      "metadata": {
        "id": "85bzaK9v8fgv"
      },
      "source": [
        "#AGREGAR SEXO OHE\n",
        "data_3 = data_2.copy()"
      ],
      "execution_count": 32,
      "outputs": []
    },
    {
      "cell_type": "code",
      "metadata": {
        "id": "pa3_Sp2K95Ix"
      },
      "source": [
        "from sklearn.preprocessing import OrdinalEncoder, OneHotEncoder\n",
        "\n",
        "data_3.Sex = OrdinalEncoder().fit_transform(data_3[[\"Sex\"]])"
      ],
      "execution_count": 33,
      "outputs": []
    },
    {
      "cell_type": "code",
      "metadata": {
        "id": "KY2hMPlLcrm2",
        "outputId": "e6781f06-4f3a-4ff0-c9ec-4745ca30c69b",
        "colab": {
          "base_uri": "https://localhost:8080/"
        }
      },
      "source": [
        "# COMPLETANDO SEXO COMO 0 Y 1 MEJORA. PORQUE ESA VARIABLE ANTES NO ESTABA YA QUE ERA UN STRING\n",
        "metric(data_3.drop(data_3.select_dtypes(\"O\"), axis=1))"
      ],
      "execution_count": 173,
      "outputs": [
        {
          "output_type": "execute_result",
          "data": {
            "text/plain": [
              "(0.4265191025967129, 0.8116591928251121, 0.7961177259768573)"
            ]
          },
          "metadata": {},
          "execution_count": 173
        }
      ]
    },
    {
      "cell_type": "code",
      "metadata": {
        "id": "Sx4YfT9A_zkO"
      },
      "source": [
        "#AGRUPAR EDAD "
      ],
      "execution_count": null,
      "outputs": []
    },
    {
      "cell_type": "code",
      "metadata": {
        "id": "pkYrDMxsYvAW"
      },
      "source": [
        "data_4 = data_3.copy()"
      ],
      "execution_count": 179,
      "outputs": []
    },
    {
      "cell_type": "code",
      "execution_count": 194,
      "metadata": {},
      "outputs": [],
      "source": [
        " #REEMPLAZO EL VALOR DE LA VARIABLE\"\n",
        "data_4.loc[(data_4[\"Age\"] > 18) & (data_4[\"Age\"] <=25), \"AgeCat\"] = 1\n",
        "data_4.loc[(data_4[\"Age\"]  > 0) &  (data_4[\"Age\"] <=18), \"AgeCat\"] = 0\n",
        "data_4.loc[(data_4[\"Age\"]  > 25) &  (data_4[\"Age\"]  <=35), \"AgeCat\"] = 2\n",
        "data_4.loc[(data_4[\"Age\"] > 35) &  (data_4[\"Age\"]  <=50), \"AgeCat\"] = 3\n",
        "data_4.loc[ (data_4[\"Age\"]  > 50) &  (data_4[\"Age\"]  <=75), \"AgeCat\"] = 4\n",
        "data_4.loc[(data_4[\"Age\"]  > 75) , \"AgeCat\"] = 5"
      ]
    },
    {
      "cell_type": "code",
      "execution_count": 192,
      "metadata": {},
      "outputs": [
        {
          "output_type": "execute_result",
          "data": {
            "text/plain": [
              "3.0    373\n",
              "2.0    162\n",
              "4.0    153\n",
              "1.0     75\n",
              "0.0     64\n",
              "5.0     63\n",
              "6.0      1\n",
              "Name: AgeCat, dtype: int64"
            ]
          },
          "metadata": {},
          "execution_count": 192
        }
      ],
      "source": [
        "data_4['AgeCat'].value_counts()"
      ]
    },
    {
      "cell_type": "code",
      "metadata": {
        "id": "aL1-YLZ1ggFf",
        "outputId": "13295e07-57d6-4bb7-be3f-f7ce212af329",
        "colab": {
          "base_uri": "https://localhost:8080/"
        }
      },
      "source": [
        "data_4.Embarked= pd.factorize(data_4.Embarked)[0]"
      ],
      "execution_count": 159,
      "outputs": []
    },
    {
      "cell_type": "code",
      "execution_count": 184,
      "metadata": {},
      "outputs": [
        {
          "output_type": "execute_result",
          "data": {
            "text/plain": [
              "Survived      0\n",
              "Pclass        0\n",
              "Name          0\n",
              "Sex           0\n",
              "Age           0\n",
              "SibSp         0\n",
              "Parch         0\n",
              "Ticket        0\n",
              "Fare          0\n",
              "Cabin       687\n",
              "Embarked      0\n",
              "AgeCat        0\n",
              "dtype: int64"
            ]
          },
          "metadata": {},
          "execution_count": 184
        }
      ],
      "source": [
        "data_4.isnull().sum()"
      ]
    },
    {
      "cell_type": "code",
      "metadata": {
        "id": "NC8iOEYtfz51",
        "outputId": "5492a680-212f-417d-e0c1-c5cab22894a5",
        "colab": {
          "base_uri": "https://localhost:8080/"
        }
      },
      "source": [
        "# Categorizando Embarked- NO MEJORA\n",
        "metric(data_4.drop(data_4.select_dtypes(\"O\"), axis=1))"
      ],
      "execution_count": 195,
      "outputs": [
        {
          "output_type": "execute_result",
          "data": {
            "text/plain": [
              "(0.4232867690660394, 0.8116591928251121, 0.8017776287103806)"
            ]
          },
          "metadata": {},
          "execution_count": 195
        }
      ]
    },
    {
      "cell_type": "code",
      "metadata": {
        "id": "DsinReRlgzCx"
      },
      "source": [
        "data_5 = data_4.copy()"
      ],
      "execution_count": 185,
      "outputs": []
    },
    {
      "cell_type": "code",
      "metadata": {
        "id": "i2NMT-D7hghn"
      },
      "source": [
        "# Separar por ninos\n",
        "\"\"\"Extract those firstName from Name.\"\"\"\n",
        "firstName = data_5.Name.str.split(\".\").str.get(0).str.split(\",\").str.get(-1)\n",
        "\"\"\"Count the extracted categories of firstName from Name.\"\"\"\n",
        "display(firstName.value_counts())"
      ],
      "execution_count": 198,
      "outputs": [
        {
          "output_type": "display_data",
          "data": {
            "text/plain": " Mr              517\n Miss            182\n Mrs             125\n Master           40\n Dr                7\n Rev               6\n Col               2\n Major             2\n Mlle              2\n Mme               1\n Sir               1\n Capt              1\n Ms                1\n the Countess      1\n Lady              1\n Jonkheer          1\n Don               1\nName: Name, dtype: int64"
          },
          "metadata": {}
        }
      ]
    },
    {
      "cell_type": "code",
      "execution_count": 211,
      "metadata": {},
      "outputs": [],
      "source": [
        "\"\"\"Create a bucket Officer and put Dr, Rev, Col, Major, Capt titles into it.\"\"\"\n",
        "firstName.replace(to_replace = [\"Dr\", \"Rev\", \"Col\", \"Major\", \"Capt\"], value = \"Officer\", inplace = True,regex=True)\n",
        "\n",
        "\"\"\"Put Dona, Jonkheer, Countess, Sir, Lady, Don in bucket Aristocrat.\"\"\"\n",
        "firstName.replace(to_replace = [\"Dona\", \"Jonkheer\", \"Countess\", \"Sir\", \"Lady\", \"Don\"], value = \"Aristocrat\", inplace = True,regex=True)\n",
        "\n",
        "\"\"\"Finally Replace Mlle and Ms with Miss. And Mme with Mrs.\"\"\"\n",
        "firstName.replace({\"Mlle\":\"Miss\", \"Ms\":\"Miss\", \"Mme\":\"Mrs\"}, inplace = True,regex=True)\n",
        "\n",
        "\"\"\"Replace the Aristocrat with Aristocrat\"\"\"\n",
        "firstName.replace({\"the Aristocrat\":\"Aristocrat\"}, inplace = True,regex=True)\n",
        "\n",
        "\"\"\"Insert a column named 'nameProcessed'.\"\"\"\n",
        "data_5[\"nameProcessed\"] = firstName"
      ]
    },
    {
      "cell_type": "code",
      "execution_count": 212,
      "metadata": {},
      "outputs": [
        {
          "output_type": "display_data",
          "data": {
            "text/plain": " Mr            517\n Miss          185\n Mrs           126\n Master         40\n Officer        18\n Aristocrat      5\nName: nameProcessed, dtype: int64"
          },
          "metadata": {}
        }
      ],
      "source": [
        "\"\"\"let's see how nameProcessed looks now\"\"\"\n",
        "display(data_5.nameProcessed.value_counts())"
      ]
    },
    {
      "cell_type": "code",
      "execution_count": null,
      "metadata": {},
      "outputs": [],
      "source": [
        "#Miss: Solteras\n",
        "#Mrs: Casadas\n",
        "#Mr: Hombres"
      ]
    },
    {
      "cell_type": "code",
      "execution_count": 213,
      "metadata": {},
      "outputs": [
        {
          "output_type": "execute_result",
          "data": {
            "text/plain": [
              "             Survived  Pclass  \\\n",
              "PassengerId                     \n",
              "1                   0       3   \n",
              "2                   1       1   \n",
              "3                   1       3   \n",
              "4                   1       1   \n",
              "5                   0       3   \n",
              "...               ...     ...   \n",
              "887                 0       2   \n",
              "888                 1       1   \n",
              "889                 0       3   \n",
              "890                 1       1   \n",
              "891                 0       3   \n",
              "\n",
              "                                                          Name  Sex  \\\n",
              "PassengerId                                                           \n",
              "1                                      Braund, Mr. Owen Harris  1.0   \n",
              "2            Cumings, Mrs. John Bradley (Florence Briggs Th...  0.0   \n",
              "3                                       Heikkinen, Miss. Laina  0.0   \n",
              "4                 Futrelle, Mrs. Jacques Heath (Lily May Peel)  0.0   \n",
              "5                                     Allen, Mr. William Henry  1.0   \n",
              "...                                                        ...  ...   \n",
              "887                                      Montvila, Rev. Juozas  1.0   \n",
              "888                               Graham, Miss. Margaret Edith  0.0   \n",
              "889                   Johnston, Miss. Catherine Helen \"Carrie\"  0.0   \n",
              "890                                      Behr, Mr. Karl Howell  1.0   \n",
              "891                                        Dooley, Mr. Patrick  1.0   \n",
              "\n",
              "                   Age  SibSp  Parch            Ticket     Fare Cabin  \\\n",
              "PassengerId                                                             \n",
              "1            22.000000      1      0         A/5 21171   7.2500   NaN   \n",
              "2            38.000000      1      0          PC 17599  71.2833   C85   \n",
              "3            26.000000      0      0  STON/O2. 3101282   7.9250   NaN   \n",
              "4            35.000000      1      0            113803  53.1000  C123   \n",
              "5            35.000000      0      0            373450   8.0500   NaN   \n",
              "...                ...    ...    ...               ...      ...   ...   \n",
              "887          27.000000      0      0            211536  13.0000   NaN   \n",
              "888          19.000000      0      0            112053  30.0000   B42   \n",
              "889          29.699118      1      2        W./C. 6607  23.4500   NaN   \n",
              "890          26.000000      0      0            111369  30.0000  C148   \n",
              "891          32.000000      0      0            370376   7.7500   NaN   \n",
              "\n",
              "            Embarked  AgeCat nameProcessed  \n",
              "PassengerId                                 \n",
              "1                  S     1.0            Mr  \n",
              "2                  C     3.0           Mrs  \n",
              "3                  S     2.0          Miss  \n",
              "4                  S     2.0           Mrs  \n",
              "5                  S     2.0            Mr  \n",
              "...              ...     ...           ...  \n",
              "887                S     2.0       Officer  \n",
              "888                S     1.0          Miss  \n",
              "889                S     2.0          Miss  \n",
              "890                C     2.0            Mr  \n",
              "891                Q     2.0            Mr  \n",
              "\n",
              "[891 rows x 13 columns]"
            ],
            "text/html": "<div>\n<style scoped>\n    .dataframe tbody tr th:only-of-type {\n        vertical-align: middle;\n    }\n\n    .dataframe tbody tr th {\n        vertical-align: top;\n    }\n\n    .dataframe thead th {\n        text-align: right;\n    }\n</style>\n<table border=\"1\" class=\"dataframe\">\n  <thead>\n    <tr style=\"text-align: right;\">\n      <th></th>\n      <th>Survived</th>\n      <th>Pclass</th>\n      <th>Name</th>\n      <th>Sex</th>\n      <th>Age</th>\n      <th>SibSp</th>\n      <th>Parch</th>\n      <th>Ticket</th>\n      <th>Fare</th>\n      <th>Cabin</th>\n      <th>Embarked</th>\n      <th>AgeCat</th>\n      <th>nameProcessed</th>\n    </tr>\n    <tr>\n      <th>PassengerId</th>\n      <th></th>\n      <th></th>\n      <th></th>\n      <th></th>\n      <th></th>\n      <th></th>\n      <th></th>\n      <th></th>\n      <th></th>\n      <th></th>\n      <th></th>\n      <th></th>\n      <th></th>\n    </tr>\n  </thead>\n  <tbody>\n    <tr>\n      <th>1</th>\n      <td>0</td>\n      <td>3</td>\n      <td>Braund, Mr. Owen Harris</td>\n      <td>1.0</td>\n      <td>22.000000</td>\n      <td>1</td>\n      <td>0</td>\n      <td>A/5 21171</td>\n      <td>7.2500</td>\n      <td>NaN</td>\n      <td>S</td>\n      <td>1.0</td>\n      <td>Mr</td>\n    </tr>\n    <tr>\n      <th>2</th>\n      <td>1</td>\n      <td>1</td>\n      <td>Cumings, Mrs. John Bradley (Florence Briggs Th...</td>\n      <td>0.0</td>\n      <td>38.000000</td>\n      <td>1</td>\n      <td>0</td>\n      <td>PC 17599</td>\n      <td>71.2833</td>\n      <td>C85</td>\n      <td>C</td>\n      <td>3.0</td>\n      <td>Mrs</td>\n    </tr>\n    <tr>\n      <th>3</th>\n      <td>1</td>\n      <td>3</td>\n      <td>Heikkinen, Miss. Laina</td>\n      <td>0.0</td>\n      <td>26.000000</td>\n      <td>0</td>\n      <td>0</td>\n      <td>STON/O2. 3101282</td>\n      <td>7.9250</td>\n      <td>NaN</td>\n      <td>S</td>\n      <td>2.0</td>\n      <td>Miss</td>\n    </tr>\n    <tr>\n      <th>4</th>\n      <td>1</td>\n      <td>1</td>\n      <td>Futrelle, Mrs. Jacques Heath (Lily May Peel)</td>\n      <td>0.0</td>\n      <td>35.000000</td>\n      <td>1</td>\n      <td>0</td>\n      <td>113803</td>\n      <td>53.1000</td>\n      <td>C123</td>\n      <td>S</td>\n      <td>2.0</td>\n      <td>Mrs</td>\n    </tr>\n    <tr>\n      <th>5</th>\n      <td>0</td>\n      <td>3</td>\n      <td>Allen, Mr. William Henry</td>\n      <td>1.0</td>\n      <td>35.000000</td>\n      <td>0</td>\n      <td>0</td>\n      <td>373450</td>\n      <td>8.0500</td>\n      <td>NaN</td>\n      <td>S</td>\n      <td>2.0</td>\n      <td>Mr</td>\n    </tr>\n    <tr>\n      <th>...</th>\n      <td>...</td>\n      <td>...</td>\n      <td>...</td>\n      <td>...</td>\n      <td>...</td>\n      <td>...</td>\n      <td>...</td>\n      <td>...</td>\n      <td>...</td>\n      <td>...</td>\n      <td>...</td>\n      <td>...</td>\n      <td>...</td>\n    </tr>\n    <tr>\n      <th>887</th>\n      <td>0</td>\n      <td>2</td>\n      <td>Montvila, Rev. Juozas</td>\n      <td>1.0</td>\n      <td>27.000000</td>\n      <td>0</td>\n      <td>0</td>\n      <td>211536</td>\n      <td>13.0000</td>\n      <td>NaN</td>\n      <td>S</td>\n      <td>2.0</td>\n      <td>Officer</td>\n    </tr>\n    <tr>\n      <th>888</th>\n      <td>1</td>\n      <td>1</td>\n      <td>Graham, Miss. Margaret Edith</td>\n      <td>0.0</td>\n      <td>19.000000</td>\n      <td>0</td>\n      <td>0</td>\n      <td>112053</td>\n      <td>30.0000</td>\n      <td>B42</td>\n      <td>S</td>\n      <td>1.0</td>\n      <td>Miss</td>\n    </tr>\n    <tr>\n      <th>889</th>\n      <td>0</td>\n      <td>3</td>\n      <td>Johnston, Miss. Catherine Helen \"Carrie\"</td>\n      <td>0.0</td>\n      <td>29.699118</td>\n      <td>1</td>\n      <td>2</td>\n      <td>W./C. 6607</td>\n      <td>23.4500</td>\n      <td>NaN</td>\n      <td>S</td>\n      <td>2.0</td>\n      <td>Miss</td>\n    </tr>\n    <tr>\n      <th>890</th>\n      <td>1</td>\n      <td>1</td>\n      <td>Behr, Mr. Karl Howell</td>\n      <td>1.0</td>\n      <td>26.000000</td>\n      <td>0</td>\n      <td>0</td>\n      <td>111369</td>\n      <td>30.0000</td>\n      <td>C148</td>\n      <td>C</td>\n      <td>2.0</td>\n      <td>Mr</td>\n    </tr>\n    <tr>\n      <th>891</th>\n      <td>0</td>\n      <td>3</td>\n      <td>Dooley, Mr. Patrick</td>\n      <td>1.0</td>\n      <td>32.000000</td>\n      <td>0</td>\n      <td>0</td>\n      <td>370376</td>\n      <td>7.7500</td>\n      <td>NaN</td>\n      <td>Q</td>\n      <td>2.0</td>\n      <td>Mr</td>\n    </tr>\n  </tbody>\n</table>\n<p>891 rows × 13 columns</p>\n</div>"
          },
          "metadata": {},
          "execution_count": 213
        }
      ],
      "source": [
        "data_5"
      ]
    },
    {
      "cell_type": "code",
      "execution_count": 207,
      "metadata": {},
      "outputs": [],
      "source": [
        "data_5.nameProcessed= pd.factorize(data_5.nameProcessed)[0]"
      ]
    },
    {
      "cell_type": "code",
      "execution_count": 209,
      "metadata": {},
      "outputs": [
        {
          "output_type": "execute_result",
          "data": {
            "text/plain": [
              "(0.42528254057839293, 0.7982062780269058, 0.784923696126111)"
            ]
          },
          "metadata": {},
          "execution_count": 209
        }
      ],
      "source": [
        "# Categorizando Segun el tipo de persona (Miss, etc)- NO MEJORA\n",
        "metric(data_5.drop(data_5.select_dtypes(\"O\"), axis=1))"
      ]
    },
    {
      "source": [
        "Realizar todos los pre-procesamientos posibles y ver cuanto se puede llegar a mejorar las métricas para un modelo simple"
      ],
      "cell_type": "code",
      "metadata": {
        "id": "s5gAZ6cdSsia"
      },
      "execution_count": 204,
      "outputs": [
        {
          "output_type": "error",
          "ename": "SyntaxError",
          "evalue": "invalid syntax (<ipython-input-204-60b105921f1c>, line 1)",
          "traceback": [
            "\u001b[0;36m  File \u001b[0;32m\"<ipython-input-204-60b105921f1c>\"\u001b[0;36m, line \u001b[0;32m1\u001b[0m\n\u001b[0;31m    Realizar todos los pre-procesamientos posibles y ver cuanto se puede llegar a mejorar las métricas para un modelo simple\u001b[0m\n\u001b[0m                 ^\u001b[0m\n\u001b[0;31mSyntaxError\u001b[0m\u001b[0;31m:\u001b[0m invalid syntax\n"
          ]
        }
      ]
    },
    {
      "cell_type": "code",
      "execution_count": null,
      "metadata": {},
      "outputs": [],
      "source": []
    }
  ]
}